{
 "cells": [
  {
   "cell_type": "markdown",
   "id": "25a0ac75-69c8-4585-adea-575c08f2a813",
   "metadata": {},
   "source": [
    "# Pytorch Computer Vision"
   ]
  },
  {
   "cell_type": "markdown",
   "id": "a21b10af-a5f9-40ca-ad3f-ce382e84a99f",
   "metadata": {},
   "source": [
    "### Computer Vision Libraries\n",
    "\n",
    "* `torchvision` - used as a base domain library for pytorch computer vision\n",
    "* `torchvision.datasets` - used for data loading functions for computer vision\n",
    "* `torchvision.models` - get pretrained model that you can leverage for your own problem\n",
    "* `torchvision.transforms` - function for manipulating your vision data(images) to be suitable for use of an model\n",
    "* `torch.utils.data.DataSet` - Base dataset class for pytorch\n",
    "* `torch.utils.data.DataLoader` - create a python iteratable over a dataset"
   ]
  },
  {
   "cell_type": "code",
   "execution_count": 1,
   "id": "61335722-14de-4f1b-9aa2-3e6885200c43",
   "metadata": {},
   "outputs": [
    {
     "name": "stdout",
     "output_type": "stream",
     "text": [
      "2.2.2+cu118\n",
      "0.17.2+cu118\n"
     ]
    }
   ],
   "source": [
    "import torch\n",
    "from torch import nn\n",
    "\n",
    "import torchvision\n",
    "from torchvision import datasets\n",
    "from torchvision import transforms\n",
    "from torchvision.transforms import ToTensor\n",
    "\n",
    "import matplotlib.pyplot as plt\n",
    "\n",
    "print(torch.__version__)\n",
    "print(torchvision.__version__)"
   ]
  },
  {
   "cell_type": "markdown",
   "id": "2a3d1037-a8f5-4f1d-bfd3-1db9685ff6c3",
   "metadata": {},
   "source": [
    "# Getting a dataset\n",
    "\n",
    "* Dataset that we are going to use to learn basis of torchvision is FashionMNIST dataset"
   ]
  },
  {
   "cell_type": "code",
   "execution_count": 2,
   "id": "9a28609a-670f-45bc-961a-51f72961a2f2",
   "metadata": {},
   "outputs": [],
   "source": [
    "# setting up the training data\n",
    "\n",
    "from torchvision import datasets\n",
    "\n",
    "train_data = torchvision.datasets.FashionMNIST(\n",
    "    root = \"data\", # \"where to download the dataset?\"\n",
    "    train = True, # do we want the training dataset?\n",
    "    download = True, # do we need to download yes or no?\n",
    "    transform = torchvision.transforms.ToTensor() , # how do we want to transform the data?\n",
    "    target_transform = None # how do we want to transform the labels/target?\n",
    ")\n",
    "\n",
    "test_data = torchvision.datasets.FashionMNIST(\n",
    "    root = \"data\", # \"where to download the dataset?\"\n",
    "    train = False, # do we want the training dataset?\n",
    "    download = True, # do we need to download yes or no?\n",
    "    transform = ToTensor() , # how do we want to transform the data?\n",
    "    target_transform = None # how do we want to transform the labels/target?\n",
    ")"
   ]
  },
  {
   "cell_type": "code",
   "execution_count": 3,
   "id": "6148c667-8ff2-45df-9ac2-2e73d2349611",
   "metadata": {},
   "outputs": [
    {
     "data": {
      "text/plain": [
       "(60000, 10000)"
      ]
     },
     "execution_count": 3,
     "metadata": {},
     "output_type": "execute_result"
    }
   ],
   "source": [
    "len(train_data) , len(test_data)"
   ]
  },
  {
   "cell_type": "code",
   "execution_count": 4,
   "id": "ae108b85-0d1a-4759-a91d-516af0452463",
   "metadata": {},
   "outputs": [],
   "source": [
    "image , label = train_data[0]"
   ]
  },
  {
   "cell_type": "code",
   "execution_count": 5,
   "id": "b6ac0cf6-359c-41d6-9836-4c5575463c35",
   "metadata": {},
   "outputs": [
    {
     "data": {
      "text/plain": [
       "9"
      ]
     },
     "execution_count": 5,
     "metadata": {},
     "output_type": "execute_result"
    }
   ],
   "source": [
    "label"
   ]
  },
  {
   "cell_type": "code",
   "execution_count": 6,
   "id": "1c4d984c-b051-4954-9093-e18052283591",
   "metadata": {},
   "outputs": [
    {
     "data": {
      "text/plain": [
       "torch.Size([1, 28, 28])"
      ]
     },
     "execution_count": 6,
     "metadata": {},
     "output_type": "execute_result"
    }
   ],
   "source": [
    "image.shape # channel , height , weight"
   ]
  },
  {
   "cell_type": "code",
   "execution_count": 7,
   "id": "812bea2c-b3c6-40ee-bacf-fbe5f7fef708",
   "metadata": {},
   "outputs": [],
   "source": [
    "class_name = train_data.classes # this gives us the category we have in FashionMNISt dataset"
   ]
  },
  {
   "cell_type": "code",
   "execution_count": 8,
   "id": "a83673b8-b333-4aac-b086-fe6b69aaad96",
   "metadata": {},
   "outputs": [
    {
     "data": {
      "text/plain": [
       "['T-shirt/top',\n",
       " 'Trouser',\n",
       " 'Pullover',\n",
       " 'Dress',\n",
       " 'Coat',\n",
       " 'Sandal',\n",
       " 'Shirt',\n",
       " 'Sneaker',\n",
       " 'Bag',\n",
       " 'Ankle boot']"
      ]
     },
     "execution_count": 8,
     "metadata": {},
     "output_type": "execute_result"
    }
   ],
   "source": [
    "class_name"
   ]
  },
  {
   "cell_type": "code",
   "execution_count": 9,
   "id": "96e8e985-85e4-4044-9030-31c11d284a4f",
   "metadata": {},
   "outputs": [],
   "source": [
    "class_to_idx = train_data.class_to_idx # this gives us the dictionary of class with index"
   ]
  },
  {
   "cell_type": "code",
   "execution_count": 10,
   "id": "baeaa0d6-3912-45ca-8d6c-522d287d276b",
   "metadata": {},
   "outputs": [
    {
     "data": {
      "text/plain": [
       "{'T-shirt/top': 0,\n",
       " 'Trouser': 1,\n",
       " 'Pullover': 2,\n",
       " 'Dress': 3,\n",
       " 'Coat': 4,\n",
       " 'Sandal': 5,\n",
       " 'Shirt': 6,\n",
       " 'Sneaker': 7,\n",
       " 'Bag': 8,\n",
       " 'Ankle boot': 9}"
      ]
     },
     "execution_count": 10,
     "metadata": {},
     "output_type": "execute_result"
    }
   ],
   "source": [
    "class_to_idx"
   ]
  },
  {
   "cell_type": "markdown",
   "id": "758912f8-f8ee-46ac-a2a7-022e27321316",
   "metadata": {},
   "source": [
    "# Visualizing the data"
   ]
  },
  {
   "cell_type": "code",
   "execution_count": 11,
   "id": "cb674bda-978f-4ab8-8456-934d53b77376",
   "metadata": {},
   "outputs": [
    {
     "name": "stdout",
     "output_type": "stream",
     "text": [
      "Image shape: torch.Size([1, 28, 28])\n"
     ]
    }
   ],
   "source": [
    "import matplotlib.pyplot as plt\n",
    "\n",
    "image , label = train_data[0]\n",
    "print(f\"Image shape: {image.shape}\")"
   ]
  },
  {
   "cell_type": "code",
   "execution_count": 12,
   "id": "077f523e-1a8a-4931-bc8d-1573364e5b36",
   "metadata": {},
   "outputs": [],
   "source": [
    "# if we run plt.imshow(image) -> then it would show error it should be height * weight not chaneel * height * weight"
   ]
  },
  {
   "cell_type": "code",
   "execution_count": 13,
   "id": "0868258f-2d77-47d2-813c-b09dcbfe0cde",
   "metadata": {},
   "outputs": [
    {
     "data": {
      "text/plain": [
       "Text(0.5, 1.0, '9')"
      ]
     },
     "execution_count": 13,
     "metadata": {},
     "output_type": "execute_result"
    },
    {
     "data": {
      "image/png": "[encoded data removed]",
      "text/plain": [
       "<Figure size 640x480 with 1 Axes>"
      ]
     },
     "metadata": {},
     "output_type": "display_data"
    }
   ],
   "source": [
    "plt.imshow(image.squeeze())\n",
    "plt.title(label)"
   ]
  },
  {
   "cell_type": "code",
   "execution_count": 14,
   "id": "7c4aae46-e662-4549-b9a6-d7dc13855ef9",
   "metadata": {},
   "outputs": [
    {
     "data": {
      "text/plain": [
       "(-0.5, 27.5, 27.5, -0.5)"
      ]
     },
     "execution_count": 14,
     "metadata": {},
     "output_type": "execute_result"
    },
    {
     "data": {
      "image/png": "[encoded data removed]",
      "text/plain": [
       "<Figure size 640x480 with 1 Axes>"
      ]
     },
     "metadata": {},
     "output_type": "display_data"
    }
   ],
   "source": [
    "plt.imshow(image.squeeze() , cmap = 'gray')\n",
    "plt.title(class_name[label])\n",
    "plt.axis(False)"
   ]
  },
  {
   "cell_type": "markdown",
   "id": "01117139-96d1-4106-83bd-c2382839270d",
   "metadata": {},
   "source": [
    "### Ploting more images"
   ]
  },
  {
   "cell_type": "code",
   "execution_count": 15,
   "id": "a9dff803-0e17-4baf-8a9d-1e9b265cebd4",
   "metadata": {},
   "outputs": [
    {
     "data": {
      "image/png": "[encoded data removed]",
      "text/plain": [
       "<Figure size 900x900 with 16 Axes>"
      ]
     },
     "metadata": {},
     "output_type": "display_data"
    }
   ],
   "source": [
    "torch.manual_seed(42)\n",
    "fig = plt.figure(figsize=(9,9))\n",
    "row , col = 4 , 4\n",
    "for i in range(1 , row*col + 1):\n",
    "    random_idx = torch.randint(0 , len(train_data) , size = [1]).item()\n",
    "    image , label = train_data[random_idx]\n",
    "    fig.add_subplot(row,col,i)\n",
    "    plt.imshow(image.squeeze() , cmap='gray')\n",
    "    plt.title(class_name[label])\n",
    "    plt.axis(False)"
   ]
  },
  {
   "cell_type": "code",
   "execution_count": 16,
   "id": "198e1b4b-515d-4c26-8e10-7a58495e2a5f",
   "metadata": {},
   "outputs": [
    {
     "data": {
      "text/plain": [
       "'cuda'"
      ]
     },
     "execution_count": 16,
     "metadata": {},
     "output_type": "execute_result"
    }
   ],
   "source": [
    "device = \"cuda\" if torch.cuda.is_available() else \"cpu\"\n",
    "device"
   ]
  },
  {
   "cell_type": "markdown",
   "id": "61ef2c62-68ae-4483-9731-a2de7feafa4e",
   "metadata": {},
   "source": [
    "**`Do you think items of clothing could be modelled with pure linear lines ? Or do we need non - linearity?`**"
   ]
  },
  {
   "cell_type": "code",
   "execution_count": 17,
   "id": "d2ea16b2-e627-4e60-ac41-0ae7532d6865",
   "metadata": {},
   "outputs": [
    {
     "data": {
      "text/plain": [
       "Dataset FashionMNIST\n",
       "    Number of datapoints: 60000\n",
       "    Root location: data\n",
       "    Split: Train\n",
       "    StandardTransform\n",
       "Transform: ToTensor()"
      ]
     },
     "execution_count": 17,
     "metadata": {},
     "output_type": "execute_result"
    }
   ],
   "source": [
    "train_data"
   ]
  },
  {
   "cell_type": "code",
   "execution_count": 18,
   "id": "2c1eb081-3518-4f26-b5ea-f63fb0af0211",
   "metadata": {},
   "outputs": [
    {
     "data": {
      "text/plain": [
       "Dataset FashionMNIST\n",
       "    Number of datapoints: 10000\n",
       "    Root location: data\n",
       "    Split: Test\n",
       "    StandardTransform\n",
       "Transform: ToTensor()"
      ]
     },
     "execution_count": 18,
     "metadata": {},
     "output_type": "execute_result"
    }
   ],
   "source": [
    "test_data"
   ]
  },
  {
   "cell_type": "markdown",
   "id": "8fa85733-41ec-475a-a64a-c54e93026375",
   "metadata": {},
   "source": [
    "## Prepare DataLoader\n",
    "\n",
    "* Right Now , our data is in the form of PyTorch Dataset\n",
    "* DataLoader turn our dataset into Python Iterable\n",
    "* More specifically , we want to turn our data into batches (mini - batches)\n",
    "* why we would do this?\n",
    "* ->  It is more computationally efficient , as in your computer hardware may not be able to look (store in memory) at 60000 images in one hit so we break it down to 32 images at a time (batch of images)\n",
    "* -> It give our neural network more chance to update its gradient per epochs\n",
    "* you can learn about mini - batches online references"
   ]
  },
  {
   "cell_type": "code",
   "execution_count": 19,
   "id": "41a64e00-237e-4baf-b6bd-10b29b20f980",
   "metadata": {},
   "outputs": [
    {
     "name": "stdout",
     "output_type": "stream",
     "text": [
      "Sat Mar 30 16:54:50 2024       \n",
      "+-----------------------------------------------------------------------------------------+\n",
      "| NVIDIA-SMI 550.54.14              Driver Version: 550.54.14      CUDA Version: 12.4     |\n",
      "|-----------------------------------------+------------------------+----------------------+\n",
      "| GPU  Name                 Persistence-M | Bus-Id          Disp.A | Volatile Uncorr. ECC |\n",
      "| Fan  Temp   Perf          Pwr:Usage/Cap |           Memory-Usage | GPU-Util  Compute M. |\n",
      "|                                         |                        |               MIG M. |\n",
      "|=========================================+========================+======================|\n",
      "|   0  NVIDIA GeForce GTX 1650        Off |   00000000:01:00.0 Off |                  N/A |\n",
      "| N/A   47C    P8              2W /   50W |     174MiB /   4096MiB |      0%      Default |\n",
      "|                                         |                        |                  N/A |\n",
      "+-----------------------------------------+------------------------+----------------------+\n",
      "                                                                                         \n",
      "+-----------------------------------------------------------------------------------------+\n",
      "| Processes:                                                                              |\n",
      "|  GPU   GI   CI        PID   Type   Process name                              GPU Memory |\n",
      "|        ID   ID                                                               Usage      |\n",
      "|=========================================================================================|\n",
      "|    0   N/A  N/A    196249      C   ...sktop/PythonTesting/cuda/bin/python         52MiB |\n",
      "|    0   N/A  N/A    196875      C   ...sktop/PythonTesting/cuda/bin/python         60MiB |\n",
      "|    0   N/A  N/A    225336      C   ...sktop/PythonTesting/cuda/bin/python         60MiB |\n",
      "+-----------------------------------------------------------------------------------------+\n"
     ]
    }
   ],
   "source": [
    "!nvidia-smi"
   ]
  },
  {
   "cell_type": "code",
   "execution_count": 20,
   "id": "b4fc4b10-5f4c-4fd3-8158-2bd08ff896ed",
   "metadata": {},
   "outputs": [],
   "source": [
    "from torch.utils.data import DataLoader"
   ]
  },
  {
   "cell_type": "code",
   "execution_count": 21,
   "id": "99a5a991-56b1-4d28-a57f-5ab0811588bd",
   "metadata": {},
   "outputs": [],
   "source": [
    "# setup the batch size hyperparamter\n",
    "\n",
    "BATCH_SIZE = 32\n",
    "\n",
    "# Turn datasets into iterable (batches)\n",
    "train_dataloader = DataLoader(dataset=train_data,\n",
    "                              batch_size = BATCH_SIZE,\n",
    "                              shuffle = True)\n",
    "\n",
    "test_dataloader = DataLoader(dataset=test_data,\n",
    "                              batch_size = BATCH_SIZE,\n",
    "                              shuffle = False)"
   ]
  },
  {
   "cell_type": "code",
   "execution_count": 22,
   "id": "65f9ae4b-b875-47ac-a809-2f951e2130b4",
   "metadata": {},
   "outputs": [
    {
     "name": "stdout",
     "output_type": "stream",
     "text": [
      "DataLoaders : (<torch.utils.data.dataloader.DataLoader object at 0x702f776db400>, <torch.utils.data.dataloader.DataLoader object at 0x702f776d80a0>)\n"
     ]
    }
   ],
   "source": [
    "print(f\"DataLoaders : {train_dataloader , test_dataloader}\")"
   ]
  },
  {
   "cell_type": "code",
   "execution_count": 23,
   "id": "fd0a95ad-a2d4-407a-b0ba-7dfbba070a62",
   "metadata": {},
   "outputs": [
    {
     "name": "stdout",
     "output_type": "stream",
     "text": [
      "Length of the train_dataloader:1875 batch of 32\n",
      "Length of the test_dataloader:313 batch of 32\n"
     ]
    }
   ],
   "source": [
    "print(f\"Length of the train_dataloader:{len(train_dataloader)} batch of {BATCH_SIZE}\")\n",
    "print(f\"Length of the test_dataloader:{len(test_dataloader)} batch of {BATCH_SIZE}\")"
   ]
  },
  {
   "cell_type": "code",
   "execution_count": 24,
   "id": "cf760940-692b-49bf-8cc8-f44f9859a76b",
   "metadata": {},
   "outputs": [
    {
     "data": {
      "text/plain": [
       "(torch.Size([32, 1, 28, 28]), torch.Size([32]))"
      ]
     },
     "execution_count": 24,
     "metadata": {},
     "output_type": "execute_result"
    }
   ],
   "source": [
    "# check out what's inside the train dataloader\n",
    "\n",
    "train_features_batch , train_labels_batch = next(iter(train_dataloader))\n",
    "train_features_batch.shape , train_labels_batch.shape"
   ]
  },
  {
   "cell_type": "code",
   "execution_count": 25,
   "id": "869e1530-462c-4cb2-a393-b5a41b1aa44a",
   "metadata": {},
   "outputs": [
    {
     "name": "stdout",
     "output_type": "stream",
     "text": [
      "Image size:torch.Size([1, 28, 28])\n",
      "Label : 8 , label size : torch.Size([])\n"
     ]
    },
    {
     "data": {
      "image/png": "[encoded data removed]",
      "text/plain": [
       "<Figure size 640x480 with 1 Axes>"
      ]
     },
     "metadata": {},
     "output_type": "display_data"
    }
   ],
   "source": [
    "# show a sample\n",
    "\n",
    "# torch.manual_seed(42)\n",
    "random_idx = torch.randint(0,len(train_features_batch),size = [1]).item()\n",
    "img , label = train_features_batch[random_idx] , train_labels_batch[random_idx]\n",
    "plt.imshow(img.squeeze() , cmap=\"gray\")\n",
    "plt.title(class_name[label])\n",
    "plt.axis(False)\n",
    "print(f\"Image size:{img.shape}\")\n",
    "print(f\"Label : {label} , label size : {label.shape}\")"
   ]
  },
  {
   "cell_type": "markdown",
   "id": "962923d2-63c6-4c07-a08c-f57e79a630c3",
   "metadata": {},
   "source": [
    "## Building the models -> model_0 : base line model\n",
    "\n",
    "* when starting to build a series of machine learning modelling experiments , it's best practise to start with the base line model\n",
    "* A base line model is a simple model you will try and improve upon with subsequent model/experiment"
   ]
  },
  {
   "cell_type": "code",
   "execution_count": 26,
   "id": "47c37582-74cb-4945-9487-aa3ef8b3a86c",
   "metadata": {},
   "outputs": [
    {
     "name": "stdout",
     "output_type": "stream",
     "text": [
      "shape before flattening:torch.Size([1, 28, 28]) -> [color channels , height , width]\n",
      "shape after flattening:torch.Size([1, 784]) -> [color channels , height*width ]\n"
     ]
    }
   ],
   "source": [
    "# creating a flatten layer\n",
    "flatten_model = nn.Flatten()\n",
    "\n",
    "# get a single sample\n",
    "x = train_features_batch[0]\n",
    "\n",
    "# lest flatten the x\n",
    "output = flatten_model(x)\n",
    "\n",
    "print(f\"shape before flattening:{x.shape} -> [color channels , height , width]\")\n",
    "print(f\"shape after flattening:{output.shape} -> [color channels , height*width ]\")"
   ]
  },
  {
   "cell_type": "code",
   "execution_count": 27,
   "id": "30f3e390-a942-4703-9f5d-5c36412c9dcc",
   "metadata": {},
   "outputs": [],
   "source": [
    "from torch import nn\n",
    "class FashionMNISTModel(nn.Module):\n",
    "    def __init__(self,input_shape:int,hidden_units:int,output_shape:int):\n",
    "        super().__init__()\n",
    "        self.layer_stack = nn.Sequential(\n",
    "            nn.Flatten(),\n",
    "            nn.Linear(in_features=input_shape,out_features=hidden_units),\n",
    "            nn.Linear(in_features=hidden_units,out_features=output_shape)\n",
    "        )\n",
    "\n",
    "    def forward(self,x):\n",
    "        return self.layer_stack(x)"
   ]
  },
  {
   "cell_type": "code",
   "execution_count": 28,
   "id": "ac5f6f0f-6cac-4af5-96ef-d984ea6cf6f0",
   "metadata": {},
   "outputs": [],
   "source": [
    "torch.manual_seed(42)\n",
    "\n",
    "# setup the model input parameters\n",
    "model_0 = FashionMNISTModel(\n",
    "    input_shape=784,\n",
    "    hidden_units = 256,\n",
    "    output_shape = len(class_name)\n",
    ").to('cpu')"
   ]
  },
  {
   "cell_type": "code",
   "execution_count": 29,
   "id": "3acfb01f-d9b2-418f-9eb3-7f1016ce85c6",
   "metadata": {},
   "outputs": [
    {
     "data": {
      "text/plain": [
       "<bound method Module.state_dict of FashionMNISTModel(\n",
       "  (layer_stack): Sequential(\n",
       "    (0): Flatten(start_dim=1, end_dim=-1)\n",
       "    (1): Linear(in_features=784, out_features=256, bias=True)\n",
       "    (2): Linear(in_features=256, out_features=10, bias=True)\n",
       "  )\n",
       ")>"
      ]
     },
     "execution_count": 29,
     "metadata": {},
     "output_type": "execute_result"
    }
   ],
   "source": [
    "(model_0.state_dict)"
   ]
  },
  {
   "cell_type": "code",
   "execution_count": 30,
   "id": "2b69e0c0-54d9-470f-8b38-3927dbf558ce",
   "metadata": {},
   "outputs": [
    {
     "data": {
      "text/plain": [
       "tensor([[-0.1632,  0.1134, -0.0667,  0.3176,  0.0384, -0.0599,  0.1459, -0.1255,\n",
       "          0.1022,  0.2317]], grad_fn=<AddmmBackward0>)"
      ]
     },
     "execution_count": 30,
     "metadata": {},
     "output_type": "execute_result"
    }
   ],
   "source": [
    "dummy_x = torch.rand([1,1,28,28])\n",
    "model_0(dummy_x)"
   ]
  },
  {
   "cell_type": "markdown",
   "id": "a3cdf229-93a4-4c63-a8c7-91b5c8fdf016",
   "metadata": {},
   "source": [
    "### Setting up the loss and optimizer function\n",
    "\n",
    "* Loss function - since we're working with multiclass data , our loss function will be `nn.CrossEntropy`\n",
    "* Optimizer - our optimizer `torch.optim.SGD()`\n",
    "* Evaluation Metric - since we're working on a classification problem , let use accuracy as our evaluation metric"
   ]
  },
  {
   "cell_type": "code",
   "execution_count": 31,
   "id": "3d03cc13-d5ee-4979-8745-b7f08e7c584d",
   "metadata": {},
   "outputs": [],
   "source": [
    "def accuracy(y_true , y_pred):\n",
    "    correct = torch.eq(y_true,y_pred).sum().item()\n",
    "    acc = (correct/len(y_pred)) * 100\n",
    "    return acc"
   ]
  },
  {
   "cell_type": "code",
   "execution_count": 32,
   "id": "d78d5032-2e6c-403b-b001-546218be06ca",
   "metadata": {},
   "outputs": [
    {
     "name": "stdout",
     "output_type": "stream",
     "text": [
      "helper_fucntion already exist\n"
     ]
    }
   ],
   "source": [
    "import requests\n",
    "from pathlib import Path\n",
    "\n",
    "# Downloading the helper function form learn pytorch repo\n",
    "if Path(\"helper_functions.py\").is_file():\n",
    "    print(f\"helper_fucntion already exist\")\n",
    "else:\n",
    "    print(\"Downloading the helper function\")\n",
    "    request = requests.get(\"https://raw.githubusercontent.com/mrdbourke/pytorch-deep-learning/main/helper_functions.py\")\n",
    "    with open(\"helper_functions.py\", \"wb\") as f:\n",
    "        f.write(request.content)"
   ]
  },
  {
   "cell_type": "code",
   "execution_count": 33,
   "id": "6c0e461b-a014-4b35-b8dd-6168328bd934",
   "metadata": {},
   "outputs": [],
   "source": [
    "# Importing the accuray metrics from helper_function.py\n",
    "from helper_functions import accuracy_fn"
   ]
  },
  {
   "cell_type": "code",
   "execution_count": 34,
   "id": "a297a82f-d272-4012-b7cd-f45fbee52c13",
   "metadata": {},
   "outputs": [],
   "source": [
    "# setting up the loss and optimizer\n",
    "\n",
    "loss_fn = nn.CrossEntropyLoss()\n",
    "optimizer = torch.optim.SGD(params = model_0.parameters() , lr = 0.1)"
   ]
  },
  {
   "cell_type": "markdown",
   "id": "accd40d3-8934-4de1-9ae7-0641ace4a389",
   "metadata": {},
   "source": [
    "## Creating a function to time our experiments\n",
    "\n",
    "Machine learning is very much experimental.\n",
    "\n",
    "Two of the main things you'll often want to track are:\n",
    "1. Model's performance (loss and accuracy values)\n",
    "2. How fast it runs "
   ]
  },
  {
   "cell_type": "code",
   "execution_count": 35,
   "id": "9b3024bc-bf53-42ac-91d2-dac18abe2bc3",
   "metadata": {},
   "outputs": [],
   "source": [
    "from timeit import default_timer as timer\n",
    "def print_train_time(start:float,end:float,device:torch.device=None):\n",
    "    '''print difference between start and end time'''\n",
    "    total_time = end - start\n",
    "    print(f\"Train time on {device} : {total_time:.3f} seconds\")\n",
    "    return total_time"
   ]
  },
  {
   "cell_type": "code",
   "execution_count": 36,
   "id": "f2cbd5b8-1e67-4aa6-b0a1-ee0e75fb7e15",
   "metadata": {},
   "outputs": [
    {
     "name": "stdout",
     "output_type": "stream",
     "text": [
      "Train time on cpu : 0.000 seconds\n"
     ]
    },
    {
     "data": {
      "text/plain": [
       "2.3326996597461402e-05"
      ]
     },
     "execution_count": 36,
     "metadata": {},
     "output_type": "execute_result"
    }
   ],
   "source": [
    "start_time = timer()\n",
    "# some code\n",
    "end_time = timer()\n",
    "\n",
    "print_train_time(start_time , end_time , device = 'cpu')"
   ]
  },
  {
   "cell_type": "markdown",
   "id": "1742acb5-dba6-49ca-b9c0-c1479d2d5e3c",
   "metadata": {},
   "source": [
    "## Creating training loop and training a model on batches on data\n",
    "\n",
    "* Loop through epochs\n",
    "* Loop through training batches , perform training steps , calculate the train loss **per batches**\n",
    "* Loop through testing batches , perform testingg steps , calculate the test loss **per batches**\n",
    "* print out what's happening"
   ]
  },
  {
   "cell_type": "code",
   "execution_count": 37,
   "id": "8f2b69e4-7ead-496d-937e-879f7d514d7e",
   "metadata": {},
   "outputs": [
    {
     "data": {
      "application/vnd.jupyter.widget-view+json": {
       "model_id": "4c5ce3d89238450db7e36a1c4180953a",
       "version_major": 2,
       "version_minor": 0
      },
      "text/plain": [
       "  0%|          | 0/3 [00:00<?, ?it/s]"
      ]
     },
     "metadata": {},
     "output_type": "display_data"
    },
    {
     "name": "stdout",
     "output_type": "stream",
     "text": [
      "Epochs : 0 \n",
      "\n",
      "Looked at 0 / 60000 samples.\n",
      "Looked at 12800 / 60000 samples.\n",
      "Looked at 25600 / 60000 samples.\n",
      "Looked at 38400 / 60000 samples.\n",
      "Looked at 51200 / 60000 samples.\n",
      "Train Loss:0.5748 | Test Loss:0.5027 | Test Acc:82.5180\n",
      "Epochs : 1 \n",
      "\n",
      "Looked at 0 / 60000 samples.\n",
      "Looked at 12800 / 60000 samples.\n",
      "Looked at 25600 / 60000 samples.\n",
      "Looked at 38400 / 60000 samples.\n",
      "Looked at 51200 / 60000 samples.\n",
      "Train Loss:0.4739 | Test Loss:0.4838 | Test Acc:82.8574\n",
      "Epochs : 2 \n",
      "\n",
      "Looked at 0 / 60000 samples.\n",
      "Looked at 12800 / 60000 samples.\n",
      "Looked at 25600 / 60000 samples.\n",
      "Looked at 38400 / 60000 samples.\n",
      "Looked at 51200 / 60000 samples.\n",
      "Train Loss:0.4539 | Test Loss:0.4763 | Test Acc:83.5064\n",
      "Total training time: 17.52 seconds\n"
     ]
    }
   ],
   "source": [
    "import torch\n",
    "from tqdm.auto import tqdm\n",
    "from timeit import default_timer as timer\n",
    "\n",
    "# set the seed and start the timer\n",
    "torch.manual_seed(42)\n",
    "train_time_start_on_cpu = timer()\n",
    "\n",
    "# set the no of epochs (we will keep this smaller for faster training time)\n",
    "epochs = 3\n",
    "\n",
    "# create training and test loop\n",
    "for epoch in tqdm(range(epochs)):\n",
    "    print(f\"Epochs : {epoch} \\n\")\n",
    "\n",
    "    train_loss = 0\n",
    "    model_0.train()  # set the model to training mode\n",
    "    # Add a loop to loop through the training batches\n",
    "    for batch, (image, label) in enumerate(train_dataloader):\n",
    "        # Forward pass\n",
    "        label_pred = model_0(image)\n",
    "        # calculate loss (per batches)\n",
    "        loss = loss_fn(label_pred, label)\n",
    "        train_loss += loss.item()  # accumulate the loss\n",
    "        # optimizer zero grad\n",
    "        optimizer.zero_grad()\n",
    "        # loss backward\n",
    "        loss.backward()\n",
    "        # optimizer step\n",
    "        optimizer.step()\n",
    "        if batch % 400 == 0:\n",
    "            print(f\"Looked at {batch * len(image)} / {len(train_dataloader.dataset)} samples.\")\n",
    "\n",
    "    # Divide total train loss by length of train dataloader\n",
    "    train_loss /= len(train_dataloader)\n",
    "\n",
    "    # testing\n",
    "    test_loss, test_acc = 0, 0\n",
    "    model_0.eval()  # set the model to evaluation mode\n",
    "    with torch.no_grad():  # turn off gradient tracking for inference\n",
    "        for image, label in test_dataloader:\n",
    "            # forward pass\n",
    "            label_test_pred = model_0(image)\n",
    "            # loss\n",
    "            test_loss += loss_fn(label_test_pred, label).item()  # accumulate the loss\n",
    "            # accuracy\n",
    "            test_acc += accuracy_fn(label, label_test_pred.argmax(dim=1))  # accumulate the accuracy\n",
    "\n",
    "        # calculate the test loss average per batches\n",
    "        test_loss /= len(test_dataloader)\n",
    "        # calculate the test acc average per batches\n",
    "        test_acc /= len(test_dataloader)\n",
    "\n",
    "    print(f\"Train Loss:{train_loss:.4f} | Test Loss:{test_loss:.4f} | Test Acc:{test_acc:.4f}\")\n",
    "\n",
    "# calculating the time\n",
    "train_time_end_on_cpu = timer()\n",
    "\n",
    "total_train_time_model_0 = train_time_end_on_cpu - train_time_start_on_cpu\n",
    "print(f\"Total training time: {total_train_time_model_0:.2f} seconds\")"
   ]
  },
  {
   "cell_type": "markdown",
   "id": "10c92a51-8b2b-457e-94d1-e78e36c19e77",
   "metadata": {},
   "source": [
    "## Make Prediction and get Mode 0  result"
   ]
  },
  {
   "cell_type": "code",
   "execution_count": 72,
   "id": "135f570b-d992-4145-a68c-84bb19c7eaec",
   "metadata": {},
   "outputs": [
    {
     "data": {
      "application/vnd.jupyter.widget-view+json": {
       "model_id": "52eb2d05d1fd4b43adccffb032f4c3c0",
       "version_major": 2,
       "version_minor": 0
      },
      "text/plain": [
       "  0%|          | 0/313 [00:00<?, ?it/s]"
      ]
     },
     "metadata": {},
     "output_type": "display_data"
    },
    {
     "ename": "RuntimeError",
     "evalue": "Expected all tensors to be on the same device, but found at least two devices, cpu and cuda:0! (when checking argument for argument mat1 in method wrapper_CUDA_addmm)",
     "output_type": "error",
     "traceback": [
      "\u001b[0;31m---------------------------------------------------------------------------\u001b[0m",
      "\u001b[0;31mRuntimeError\u001b[0m                              Traceback (most recent call last)",
      "Cell \u001b[0;32mIn[72], line 36\u001b[0m\n\u001b[1;32m     31\u001b[0m     \u001b[38;5;28;01mreturn\u001b[39;00m {\u001b[38;5;124m\"\u001b[39m\u001b[38;5;124mmodel_name\u001b[39m\u001b[38;5;124m\"\u001b[39m: model\u001b[38;5;241m.\u001b[39m\u001b[38;5;18m__class__\u001b[39m\u001b[38;5;241m.\u001b[39m\u001b[38;5;18m__name__\u001b[39m, \u001b[38;5;66;03m# only works when model was created with a class\u001b[39;00m\n\u001b[1;32m     32\u001b[0m             \u001b[38;5;124m\"\u001b[39m\u001b[38;5;124mmodel_loss\u001b[39m\u001b[38;5;124m\"\u001b[39m: loss\u001b[38;5;241m.\u001b[39mitem(),\n\u001b[1;32m     33\u001b[0m             \u001b[38;5;124m\"\u001b[39m\u001b[38;5;124mmodel_acc\u001b[39m\u001b[38;5;124m\"\u001b[39m: acc}\n\u001b[1;32m     35\u001b[0m \u001b[38;5;66;03m# Calculate model 0 results on test dataset\u001b[39;00m\n\u001b[0;32m---> 36\u001b[0m model_0_results \u001b[38;5;241m=\u001b[39m \u001b[43meval_model\u001b[49m\u001b[43m(\u001b[49m\u001b[43mmodel\u001b[49m\u001b[38;5;241;43m=\u001b[39;49m\u001b[43mmodel_0\u001b[49m\u001b[43m,\u001b[49m\u001b[43m \u001b[49m\u001b[43mdata_loader\u001b[49m\u001b[38;5;241;43m=\u001b[39;49m\u001b[43mtest_dataloader\u001b[49m\u001b[43m,\u001b[49m\n\u001b[1;32m     37\u001b[0m \u001b[43m    \u001b[49m\u001b[43mloss_fn\u001b[49m\u001b[38;5;241;43m=\u001b[39;49m\u001b[43mloss_fn\u001b[49m\u001b[43m,\u001b[49m\u001b[43m \u001b[49m\u001b[43maccuracy_fn\u001b[49m\u001b[38;5;241;43m=\u001b[39;49m\u001b[43maccuracy_fn\u001b[49m\n\u001b[1;32m     38\u001b[0m \u001b[43m)\u001b[49m\n\u001b[1;32m     39\u001b[0m model_0_results\n",
      "Cell \u001b[0;32mIn[72], line 23\u001b[0m, in \u001b[0;36meval_model\u001b[0;34m(model, data_loader, loss_fn, accuracy_fn)\u001b[0m\n\u001b[1;32m     21\u001b[0m X , y \u001b[38;5;241m=\u001b[39m X\u001b[38;5;241m.\u001b[39mto(device) , y\u001b[38;5;241m.\u001b[39mto(device)\n\u001b[1;32m     22\u001b[0m \u001b[38;5;66;03m# Make predictions with the model\u001b[39;00m\n\u001b[0;32m---> 23\u001b[0m y_pred \u001b[38;5;241m=\u001b[39m \u001b[43mmodel\u001b[49m\u001b[43m(\u001b[49m\u001b[43mX\u001b[49m\u001b[43m)\u001b[49m\n\u001b[1;32m     24\u001b[0m \u001b[38;5;66;03m# Accumulate the loss and accuracy values per batch\u001b[39;00m\n\u001b[1;32m     25\u001b[0m loss \u001b[38;5;241m+\u001b[39m\u001b[38;5;241m=\u001b[39m loss_fn(y_pred, y)\n",
      "File \u001b[0;32m~/Desktop/PythonTesting/cuda/lib/python3.10/site-packages/torch/nn/modules/module.py:1511\u001b[0m, in \u001b[0;36mModule._wrapped_call_impl\u001b[0;34m(self, *args, **kwargs)\u001b[0m\n\u001b[1;32m   1509\u001b[0m     \u001b[38;5;28;01mreturn\u001b[39;00m \u001b[38;5;28mself\u001b[39m\u001b[38;5;241m.\u001b[39m_compiled_call_impl(\u001b[38;5;241m*\u001b[39margs, \u001b[38;5;241m*\u001b[39m\u001b[38;5;241m*\u001b[39mkwargs)  \u001b[38;5;66;03m# type: ignore[misc]\u001b[39;00m\n\u001b[1;32m   1510\u001b[0m \u001b[38;5;28;01melse\u001b[39;00m:\n\u001b[0;32m-> 1511\u001b[0m     \u001b[38;5;28;01mreturn\u001b[39;00m \u001b[38;5;28;43mself\u001b[39;49m\u001b[38;5;241;43m.\u001b[39;49m\u001b[43m_call_impl\u001b[49m\u001b[43m(\u001b[49m\u001b[38;5;241;43m*\u001b[39;49m\u001b[43margs\u001b[49m\u001b[43m,\u001b[49m\u001b[43m \u001b[49m\u001b[38;5;241;43m*\u001b[39;49m\u001b[38;5;241;43m*\u001b[39;49m\u001b[43mkwargs\u001b[49m\u001b[43m)\u001b[49m\n",
      "File \u001b[0;32m~/Desktop/PythonTesting/cuda/lib/python3.10/site-packages/torch/nn/modules/module.py:1520\u001b[0m, in \u001b[0;36mModule._call_impl\u001b[0;34m(self, *args, **kwargs)\u001b[0m\n\u001b[1;32m   1515\u001b[0m \u001b[38;5;66;03m# If we don't have any hooks, we want to skip the rest of the logic in\u001b[39;00m\n\u001b[1;32m   1516\u001b[0m \u001b[38;5;66;03m# this function, and just call forward.\u001b[39;00m\n\u001b[1;32m   1517\u001b[0m \u001b[38;5;28;01mif\u001b[39;00m \u001b[38;5;129;01mnot\u001b[39;00m (\u001b[38;5;28mself\u001b[39m\u001b[38;5;241m.\u001b[39m_backward_hooks \u001b[38;5;129;01mor\u001b[39;00m \u001b[38;5;28mself\u001b[39m\u001b[38;5;241m.\u001b[39m_backward_pre_hooks \u001b[38;5;129;01mor\u001b[39;00m \u001b[38;5;28mself\u001b[39m\u001b[38;5;241m.\u001b[39m_forward_hooks \u001b[38;5;129;01mor\u001b[39;00m \u001b[38;5;28mself\u001b[39m\u001b[38;5;241m.\u001b[39m_forward_pre_hooks\n\u001b[1;32m   1518\u001b[0m         \u001b[38;5;129;01mor\u001b[39;00m _global_backward_pre_hooks \u001b[38;5;129;01mor\u001b[39;00m _global_backward_hooks\n\u001b[1;32m   1519\u001b[0m         \u001b[38;5;129;01mor\u001b[39;00m _global_forward_hooks \u001b[38;5;129;01mor\u001b[39;00m _global_forward_pre_hooks):\n\u001b[0;32m-> 1520\u001b[0m     \u001b[38;5;28;01mreturn\u001b[39;00m \u001b[43mforward_call\u001b[49m\u001b[43m(\u001b[49m\u001b[38;5;241;43m*\u001b[39;49m\u001b[43margs\u001b[49m\u001b[43m,\u001b[49m\u001b[43m \u001b[49m\u001b[38;5;241;43m*\u001b[39;49m\u001b[38;5;241;43m*\u001b[39;49m\u001b[43mkwargs\u001b[49m\u001b[43m)\u001b[49m\n\u001b[1;32m   1522\u001b[0m \u001b[38;5;28;01mtry\u001b[39;00m:\n\u001b[1;32m   1523\u001b[0m     result \u001b[38;5;241m=\u001b[39m \u001b[38;5;28;01mNone\u001b[39;00m\n",
      "Cell \u001b[0;32mIn[27], line 12\u001b[0m, in \u001b[0;36mFashionMNISTModel.forward\u001b[0;34m(self, x)\u001b[0m\n\u001b[1;32m     11\u001b[0m \u001b[38;5;28;01mdef\u001b[39;00m \u001b[38;5;21mforward\u001b[39m(\u001b[38;5;28mself\u001b[39m,x):\n\u001b[0;32m---> 12\u001b[0m     \u001b[38;5;28;01mreturn\u001b[39;00m \u001b[38;5;28;43mself\u001b[39;49m\u001b[38;5;241;43m.\u001b[39;49m\u001b[43mlayer_stack\u001b[49m\u001b[43m(\u001b[49m\u001b[43mx\u001b[49m\u001b[43m)\u001b[49m\n",
      "File \u001b[0;32m~/Desktop/PythonTesting/cuda/lib/python3.10/site-packages/torch/nn/modules/module.py:1511\u001b[0m, in \u001b[0;36mModule._wrapped_call_impl\u001b[0;34m(self, *args, **kwargs)\u001b[0m\n\u001b[1;32m   1509\u001b[0m     \u001b[38;5;28;01mreturn\u001b[39;00m \u001b[38;5;28mself\u001b[39m\u001b[38;5;241m.\u001b[39m_compiled_call_impl(\u001b[38;5;241m*\u001b[39margs, \u001b[38;5;241m*\u001b[39m\u001b[38;5;241m*\u001b[39mkwargs)  \u001b[38;5;66;03m# type: ignore[misc]\u001b[39;00m\n\u001b[1;32m   1510\u001b[0m \u001b[38;5;28;01melse\u001b[39;00m:\n\u001b[0;32m-> 1511\u001b[0m     \u001b[38;5;28;01mreturn\u001b[39;00m \u001b[38;5;28;43mself\u001b[39;49m\u001b[38;5;241;43m.\u001b[39;49m\u001b[43m_call_impl\u001b[49m\u001b[43m(\u001b[49m\u001b[38;5;241;43m*\u001b[39;49m\u001b[43margs\u001b[49m\u001b[43m,\u001b[49m\u001b[43m \u001b[49m\u001b[38;5;241;43m*\u001b[39;49m\u001b[38;5;241;43m*\u001b[39;49m\u001b[43mkwargs\u001b[49m\u001b[43m)\u001b[49m\n",
      "File \u001b[0;32m~/Desktop/PythonTesting/cuda/lib/python3.10/site-packages/torch/nn/modules/module.py:1520\u001b[0m, in \u001b[0;36mModule._call_impl\u001b[0;34m(self, *args, **kwargs)\u001b[0m\n\u001b[1;32m   1515\u001b[0m \u001b[38;5;66;03m# If we don't have any hooks, we want to skip the rest of the logic in\u001b[39;00m\n\u001b[1;32m   1516\u001b[0m \u001b[38;5;66;03m# this function, and just call forward.\u001b[39;00m\n\u001b[1;32m   1517\u001b[0m \u001b[38;5;28;01mif\u001b[39;00m \u001b[38;5;129;01mnot\u001b[39;00m (\u001b[38;5;28mself\u001b[39m\u001b[38;5;241m.\u001b[39m_backward_hooks \u001b[38;5;129;01mor\u001b[39;00m \u001b[38;5;28mself\u001b[39m\u001b[38;5;241m.\u001b[39m_backward_pre_hooks \u001b[38;5;129;01mor\u001b[39;00m \u001b[38;5;28mself\u001b[39m\u001b[38;5;241m.\u001b[39m_forward_hooks \u001b[38;5;129;01mor\u001b[39;00m \u001b[38;5;28mself\u001b[39m\u001b[38;5;241m.\u001b[39m_forward_pre_hooks\n\u001b[1;32m   1518\u001b[0m         \u001b[38;5;129;01mor\u001b[39;00m _global_backward_pre_hooks \u001b[38;5;129;01mor\u001b[39;00m _global_backward_hooks\n\u001b[1;32m   1519\u001b[0m         \u001b[38;5;129;01mor\u001b[39;00m _global_forward_hooks \u001b[38;5;129;01mor\u001b[39;00m _global_forward_pre_hooks):\n\u001b[0;32m-> 1520\u001b[0m     \u001b[38;5;28;01mreturn\u001b[39;00m \u001b[43mforward_call\u001b[49m\u001b[43m(\u001b[49m\u001b[38;5;241;43m*\u001b[39;49m\u001b[43margs\u001b[49m\u001b[43m,\u001b[49m\u001b[43m \u001b[49m\u001b[38;5;241;43m*\u001b[39;49m\u001b[38;5;241;43m*\u001b[39;49m\u001b[43mkwargs\u001b[49m\u001b[43m)\u001b[49m\n\u001b[1;32m   1522\u001b[0m \u001b[38;5;28;01mtry\u001b[39;00m:\n\u001b[1;32m   1523\u001b[0m     result \u001b[38;5;241m=\u001b[39m \u001b[38;5;28;01mNone\u001b[39;00m\n",
      "File \u001b[0;32m~/Desktop/PythonTesting/cuda/lib/python3.10/site-packages/torch/nn/modules/container.py:217\u001b[0m, in \u001b[0;36mSequential.forward\u001b[0;34m(self, input)\u001b[0m\n\u001b[1;32m    215\u001b[0m \u001b[38;5;28;01mdef\u001b[39;00m \u001b[38;5;21mforward\u001b[39m(\u001b[38;5;28mself\u001b[39m, \u001b[38;5;28minput\u001b[39m):\n\u001b[1;32m    216\u001b[0m     \u001b[38;5;28;01mfor\u001b[39;00m module \u001b[38;5;129;01min\u001b[39;00m \u001b[38;5;28mself\u001b[39m:\n\u001b[0;32m--> 217\u001b[0m         \u001b[38;5;28minput\u001b[39m \u001b[38;5;241m=\u001b[39m \u001b[43mmodule\u001b[49m\u001b[43m(\u001b[49m\u001b[38;5;28;43minput\u001b[39;49m\u001b[43m)\u001b[49m\n\u001b[1;32m    218\u001b[0m     \u001b[38;5;28;01mreturn\u001b[39;00m \u001b[38;5;28minput\u001b[39m\n",
      "File \u001b[0;32m~/Desktop/PythonTesting/cuda/lib/python3.10/site-packages/torch/nn/modules/module.py:1511\u001b[0m, in \u001b[0;36mModule._wrapped_call_impl\u001b[0;34m(self, *args, **kwargs)\u001b[0m\n\u001b[1;32m   1509\u001b[0m     \u001b[38;5;28;01mreturn\u001b[39;00m \u001b[38;5;28mself\u001b[39m\u001b[38;5;241m.\u001b[39m_compiled_call_impl(\u001b[38;5;241m*\u001b[39margs, \u001b[38;5;241m*\u001b[39m\u001b[38;5;241m*\u001b[39mkwargs)  \u001b[38;5;66;03m# type: ignore[misc]\u001b[39;00m\n\u001b[1;32m   1510\u001b[0m \u001b[38;5;28;01melse\u001b[39;00m:\n\u001b[0;32m-> 1511\u001b[0m     \u001b[38;5;28;01mreturn\u001b[39;00m \u001b[38;5;28;43mself\u001b[39;49m\u001b[38;5;241;43m.\u001b[39;49m\u001b[43m_call_impl\u001b[49m\u001b[43m(\u001b[49m\u001b[38;5;241;43m*\u001b[39;49m\u001b[43margs\u001b[49m\u001b[43m,\u001b[49m\u001b[43m \u001b[49m\u001b[38;5;241;43m*\u001b[39;49m\u001b[38;5;241;43m*\u001b[39;49m\u001b[43mkwargs\u001b[49m\u001b[43m)\u001b[49m\n",
      "File \u001b[0;32m~/Desktop/PythonTesting/cuda/lib/python3.10/site-packages/torch/nn/modules/module.py:1520\u001b[0m, in \u001b[0;36mModule._call_impl\u001b[0;34m(self, *args, **kwargs)\u001b[0m\n\u001b[1;32m   1515\u001b[0m \u001b[38;5;66;03m# If we don't have any hooks, we want to skip the rest of the logic in\u001b[39;00m\n\u001b[1;32m   1516\u001b[0m \u001b[38;5;66;03m# this function, and just call forward.\u001b[39;00m\n\u001b[1;32m   1517\u001b[0m \u001b[38;5;28;01mif\u001b[39;00m \u001b[38;5;129;01mnot\u001b[39;00m (\u001b[38;5;28mself\u001b[39m\u001b[38;5;241m.\u001b[39m_backward_hooks \u001b[38;5;129;01mor\u001b[39;00m \u001b[38;5;28mself\u001b[39m\u001b[38;5;241m.\u001b[39m_backward_pre_hooks \u001b[38;5;129;01mor\u001b[39;00m \u001b[38;5;28mself\u001b[39m\u001b[38;5;241m.\u001b[39m_forward_hooks \u001b[38;5;129;01mor\u001b[39;00m \u001b[38;5;28mself\u001b[39m\u001b[38;5;241m.\u001b[39m_forward_pre_hooks\n\u001b[1;32m   1518\u001b[0m         \u001b[38;5;129;01mor\u001b[39;00m _global_backward_pre_hooks \u001b[38;5;129;01mor\u001b[39;00m _global_backward_hooks\n\u001b[1;32m   1519\u001b[0m         \u001b[38;5;129;01mor\u001b[39;00m _global_forward_hooks \u001b[38;5;129;01mor\u001b[39;00m _global_forward_pre_hooks):\n\u001b[0;32m-> 1520\u001b[0m     \u001b[38;5;28;01mreturn\u001b[39;00m \u001b[43mforward_call\u001b[49m\u001b[43m(\u001b[49m\u001b[38;5;241;43m*\u001b[39;49m\u001b[43margs\u001b[49m\u001b[43m,\u001b[49m\u001b[43m \u001b[49m\u001b[38;5;241;43m*\u001b[39;49m\u001b[38;5;241;43m*\u001b[39;49m\u001b[43mkwargs\u001b[49m\u001b[43m)\u001b[49m\n\u001b[1;32m   1522\u001b[0m \u001b[38;5;28;01mtry\u001b[39;00m:\n\u001b[1;32m   1523\u001b[0m     result \u001b[38;5;241m=\u001b[39m \u001b[38;5;28;01mNone\u001b[39;00m\n",
      "File \u001b[0;32m~/Desktop/PythonTesting/cuda/lib/python3.10/site-packages/torch/nn/modules/linear.py:116\u001b[0m, in \u001b[0;36mLinear.forward\u001b[0;34m(self, input)\u001b[0m\n\u001b[1;32m    115\u001b[0m \u001b[38;5;28;01mdef\u001b[39;00m \u001b[38;5;21mforward\u001b[39m(\u001b[38;5;28mself\u001b[39m, \u001b[38;5;28minput\u001b[39m: Tensor) \u001b[38;5;241m-\u001b[39m\u001b[38;5;241m>\u001b[39m Tensor:\n\u001b[0;32m--> 116\u001b[0m     \u001b[38;5;28;01mreturn\u001b[39;00m \u001b[43mF\u001b[49m\u001b[38;5;241;43m.\u001b[39;49m\u001b[43mlinear\u001b[49m\u001b[43m(\u001b[49m\u001b[38;5;28;43minput\u001b[39;49m\u001b[43m,\u001b[49m\u001b[43m \u001b[49m\u001b[38;5;28;43mself\u001b[39;49m\u001b[38;5;241;43m.\u001b[39;49m\u001b[43mweight\u001b[49m\u001b[43m,\u001b[49m\u001b[43m \u001b[49m\u001b[38;5;28;43mself\u001b[39;49m\u001b[38;5;241;43m.\u001b[39;49m\u001b[43mbias\u001b[49m\u001b[43m)\u001b[49m\n",
      "\u001b[0;31mRuntimeError\u001b[0m: Expected all tensors to be on the same device, but found at least two devices, cpu and cuda:0! (when checking argument for argument mat1 in method wrapper_CUDA_addmm)"
     ]
    }
   ],
   "source": [
    "torch.manual_seed(42)\n",
    "def eval_model(model: torch.nn.Module, \n",
    "               data_loader: torch.utils.data.DataLoader, \n",
    "               loss_fn: torch.nn.Module, \n",
    "               accuracy_fn):\n",
    "    \"\"\"Returns a dictionary containing the results of model predicting on data_loader.\n",
    "\n",
    "    Args:\n",
    "        model (torch.nn.Module): A PyTorch model capable of making predictions on data_loader.\n",
    "        data_loader (torch.utils.data.DataLoader): The target dataset to predict on.\n",
    "        loss_fn (torch.nn.Module): The loss function of model.\n",
    "        accuracy_fn: An accuracy function to compare the models predictions to the truth labels.\n",
    "\n",
    "    Returns:\n",
    "        (dict): Results of model making predictions on data_loader.\n",
    "    \"\"\"\n",
    "    loss, acc = 0, 0\n",
    "    model.eval()\n",
    "    with torch.inference_mode():\n",
    "        for X, y in tqdm(data_loader):\n",
    "            # Make predictions with the model\n",
    "            y_pred = model(X)\n",
    "            # Accumulate the loss and accuracy values per batch\n",
    "            loss += loss_fn(y_pred, y)\n",
    "            acc += accuracy_fn(y_true=y,y_pred=y_pred.argmax(dim=1)) # For accuracy, need the prediction labels (logits -> pred_prob -> pred_labels)\n",
    "        # Scale loss and acc to find the average loss/acc per batch\n",
    "        loss /= len(data_loader)\n",
    "        acc /= len(data_loader)\n",
    "        \n",
    "    return {\"model_name\": model.__class__.__name__, # only works when model was created with a class\n",
    "            \"model_loss\": loss.item(),\n",
    "            \"model_acc\": acc}\n",
    "\n",
    "# Calculate model 0 results on test dataset\n",
    "model_0_results = eval_model(model=model_0, data_loader=test_dataloader,\n",
    "    loss_fn=loss_fn, accuracy_fn=accuracy_fn\n",
    ")\n",
    "model_0_results"
   ]
  },
  {
   "cell_type": "code",
   "execution_count": 39,
   "id": "66b01e88-4984-45dc-b3df-dc1e814b6987",
   "metadata": {},
   "outputs": [
    {
     "data": {
      "text/plain": [
       "'cuda'"
      ]
     },
     "execution_count": 39,
     "metadata": {},
     "output_type": "execute_result"
    }
   ],
   "source": [
    "device"
   ]
  },
  {
   "cell_type": "markdown",
   "id": "e68181ce-cbc1-4cab-8199-f46cc7294f2a",
   "metadata": {},
   "source": [
    "## Model 1 : Building a better model with non-linearity"
   ]
  },
  {
   "cell_type": "code",
   "execution_count": 40,
   "id": "cc82a699-cd40-4b9b-b2ff-8b8780d740ba",
   "metadata": {},
   "outputs": [],
   "source": [
    "class FashionMnistModelV1(nn.Module):\n",
    "    def __init__(self,\n",
    "                 input_shape:int,\n",
    "                 hidden_units:int,\n",
    "                 output_shape:int):\n",
    "        super().__init__()\n",
    "        self.layer_stack = nn.Sequential(\n",
    "                        nn.Flatten(),\n",
    "                        nn.Linear(input_shape,hidden_units),\n",
    "                        nn.ReLU(),\n",
    "                        nn.Linear(hidden_units,output_shape),\n",
    "                        nn.ReLU())\n",
    "    def forward(self,x:torch.Tensor):\n",
    "        return self.layer_stack(x)"
   ]
  },
  {
   "cell_type": "code",
   "execution_count": 41,
   "id": "3923ff26-e679-4681-9c13-f827a2c9003c",
   "metadata": {},
   "outputs": [
    {
     "data": {
      "text/plain": [
       "device(type='cpu')"
      ]
     },
     "execution_count": 41,
     "metadata": {},
     "output_type": "execute_result"
    }
   ],
   "source": [
    "next(model_0.parameters()).device"
   ]
  },
  {
   "cell_type": "code",
   "execution_count": 63,
   "id": "a4aad849-b0eb-41f0-9bc9-4e0230b87b3d",
   "metadata": {},
   "outputs": [
    {
     "data": {
      "text/plain": [
       "device(type='cuda', index=0)"
      ]
     },
     "execution_count": 63,
     "metadata": {},
     "output_type": "execute_result"
    }
   ],
   "source": [
    "# create a instate of model 1\n",
    "torch.manual_seed(42)\n",
    "model_1 = FashionMnistModelV1(784,10,len(class_name)).to(device)\n",
    "next(model_1.parameters()).device"
   ]
  },
  {
   "cell_type": "code",
   "execution_count": 64,
   "id": "ec6272c1-1ff9-4da9-937a-6cbfd26c3197",
   "metadata": {},
   "outputs": [],
   "source": [
    "# setting up the loss and optimizer for model1"
   ]
  },
  {
   "cell_type": "code",
   "execution_count": 65,
   "id": "f5030004-ff7b-4223-901e-ba7d46902015",
   "metadata": {},
   "outputs": [],
   "source": [
    "from helper_functions import accuracy_fn\n",
    "loss_fn = nn.CrossEntropyLoss()\n",
    "optimizer = torch.optim.Adam(model_1.parameters(),0.01)"
   ]
  },
  {
   "cell_type": "code",
   "execution_count": 66,
   "id": "d54c3436-8eac-4c53-8e52-2fad22b9871f",
   "metadata": {},
   "outputs": [],
   "source": [
    "# Functionizing training and evaluation/testing loop"
   ]
  },
  {
   "cell_type": "code",
   "execution_count": 67,
   "id": "bb920587-6023-42c6-98e8-6d3c4397ff33",
   "metadata": {},
   "outputs": [],
   "source": [
    "def train_loop_function(model: torch.nn.Module,\n",
    "               dataloader: torch.utils.data.DataLoader,\n",
    "               loss_fn: torch.nn.Module,\n",
    "               optimizer: torch.optim.Optimizer,\n",
    "               accuracy_fn,\n",
    "               device: torch.device = device):\n",
    "    train_loss, train_acc = 0, 0\n",
    "    model.to(device)\n",
    "    for batch, (X, y) in enumerate(dataloader):\n",
    "        # Send data to GPU\n",
    "        X, y = X.to(device), y.to(device)\n",
    "\n",
    "        # 1. Forward pass\n",
    "        y_pred = model(X)\n",
    "\n",
    "        # 2. Calculate loss\n",
    "        loss = loss_fn(y_pred, y)\n",
    "        train_loss += loss\n",
    "        train_acc += accuracy_fn(y_true=y,\n",
    "                                 y_pred=y_pred.argmax(dim=1)) # Go from logits -> pred labels\n",
    "\n",
    "        # 3. Optimizer zero grad\n",
    "        optimizer.zero_grad()\n",
    "\n",
    "        # 4. Loss backward\n",
    "        loss.backward()\n",
    "\n",
    "        # 5. Optimizer step\n",
    "        optimizer.step()\n",
    "\n",
    "    # Calculate loss and accuracy per epoch and print out what's happening\n",
    "    train_loss /= len(dataloader)\n",
    "    train_acc /= len(dataloader)\n",
    "    print(f\"Train loss: {train_loss:.5f} | Train accuracy: {train_acc:.2f}%\")"
   ]
  },
  {
   "cell_type": "code",
   "execution_count": 68,
   "id": "7f836f71-f60a-49b4-8cae-1cb12afbe855",
   "metadata": {},
   "outputs": [],
   "source": [
    "def test_loop_function(dataloader: torch.utils.data.DataLoader,\n",
    "              model: torch.nn.Module,\n",
    "              loss_fn: torch.nn.Module,\n",
    "              accuracy_fn,\n",
    "              device: torch.device = device):\n",
    "    test_loss, test_acc = 0, 0\n",
    "    model.to(device)\n",
    "    model.eval() # put model in eval mode\n",
    "    # Turn on inference context manager\n",
    "    with torch.inference_mode(): \n",
    "        for X, y in dataloader:\n",
    "            # Send data to GPU\n",
    "            X, y = X.to(device), y.to(device)\n",
    "            \n",
    "            # 1. Forward pass\n",
    "            test_pred = model(X)\n",
    "            \n",
    "            # 2. Calculate loss and accuracy\n",
    "            test_loss += loss_fn(test_pred, y)\n",
    "            test_acc += accuracy_fn(y_true=y,\n",
    "                y_pred=test_pred.argmax(dim=1) # Go from logits -> pred labels\n",
    "            )\n",
    "        \n",
    "        # Adjust metrics and print out\n",
    "        test_loss /= len(dataloader)\n",
    "        test_acc /= len(dataloader)\n",
    "        print(f\"Test loss: {test_loss:.5f} | Test accuracy: {test_acc:.2f}%\\n\")"
   ]
  },
  {
   "cell_type": "code",
   "execution_count": 69,
   "id": "caa8390f-a26b-490c-b2c0-27c3c4a7acf2",
   "metadata": {},
   "outputs": [
    {
     "data": {
      "application/vnd.jupyter.widget-view+json": {
       "model_id": "4a4f6c68cb734ce8b4c58ac942ba0a69",
       "version_major": 2,
       "version_minor": 0
      },
      "text/plain": [
       "  0%|          | 0/3 [00:00<?, ?it/s]"
      ]
     },
     "metadata": {},
     "output_type": "display_data"
    },
    {
     "name": "stdout",
     "output_type": "stream",
     "text": [
      "Epoch : 0\n",
      "Train loss: 0.77872 | Train accuracy: 72.19%\n",
      "Test loss: 0.72671 | Test accuracy: 74.80%\n",
      "\n",
      "Epoch : 1\n",
      "Train loss: 0.69171 | Train accuracy: 74.85%\n",
      "Test loss: 0.74682 | Test accuracy: 72.90%\n",
      "\n",
      "Epoch : 2\n",
      "Train loss: 0.66968 | Train accuracy: 75.67%\n",
      "Test loss: 0.70321 | Test accuracy: 74.17%\n",
      "\n",
      "Train time on cuda : 19.387 seconds\n"
     ]
    }
   ],
   "source": [
    "torch.manual_seed(42)\n",
    "\n",
    "# Measure time\n",
    "import time\n",
    "train_time_start_gpu = time.time()\n",
    "\n",
    "epochs = 3\n",
    "for epoch in tqdm(range(epochs)):\n",
    "    print(f\"Epoch : {epoch}\")\n",
    "    train_loop_function(model = model_1,\n",
    "                        dataloader = train_dataloader,\n",
    "                        loss_fn = loss_fn,\n",
    "                        optimizer = optimizer,\n",
    "                        accuracy_fn = accuracy_fn,\n",
    "                        device = device)\n",
    "    test_loop_function(model = model_1,\n",
    "                       dataloader = test_dataloader,\n",
    "                       loss_fn = loss_fn,\n",
    "                       accuracy_fn = accuracy_fn,\n",
    "                       device = device)\n",
    "\n",
    "train_time_end_gpu = time.time()\n",
    "total_train_time_model_1 = print_train_time(train_time_start_gpu,train_time_end_gpu,device = device)"
   ]
  },
  {
   "cell_type": "code",
   "execution_count": 70,
   "id": "95f2693a-9b47-43af-b1b3-31c527742b13",
   "metadata": {},
   "outputs": [
    {
     "data": {
      "text/plain": [
       "{'model_name': 'FashionMNISTModel',\n",
       " 'model_loss': 0.47632458806037903,\n",
       " 'model_acc': 83.50638977635782}"
      ]
     },
     "execution_count": 70,
     "metadata": {},
     "output_type": "execute_result"
    }
   ],
   "source": [
    "model_0_results"
   ]
  },
  {
   "cell_type": "code",
   "execution_count": 71,
   "id": "f3e3d7d0-bc81-442f-b09f-1b89573158b1",
   "metadata": {},
   "outputs": [
    {
     "data": {
      "text/plain": [
       "17.520338546994026"
      ]
     },
     "execution_count": 71,
     "metadata": {},
     "output_type": "execute_result"
    }
   ],
   "source": [
    "total_train_time_model_0"
   ]
  },
  {
   "cell_type": "markdown",
   "id": "3a741467-dd95-4bc6-af70-b18df95832e6",
   "metadata": {},
   "source": [
    "**Note** : sometime , depending on your data/hardware you might find that your model train faster on cpu than gpu?\n",
    "* why is this?\n",
    " > 1. It could be that the overhead for copying data/model to and from the gpu outweight the compute benefit offered by gpu\n",
    " > 2. The hardware you're using has better cpu in terms of gpu"
   ]
  },
  {
   "cell_type": "code",
   "execution_count": 73,
   "id": "1f8aeba8-1421-4032-bf1b-9f6c2afb48ff",
   "metadata": {},
   "outputs": [],
   "source": [
    "torch.manual_seed(42)\n",
    "def eval_model(model: torch.nn.Module, \n",
    "               data_loader: torch.utils.data.DataLoader, \n",
    "               loss_fn: torch.nn.Module, \n",
    "               accuracy_fn,\n",
    "               device = device):\n",
    "    \"\"\"Returns a dictionary containing the results of model predicting on data_loader.\n",
    "\n",
    "    Args:\n",
    "        model (torch.nn.Module): A PyTorch model capable of making predictions on data_loader.\n",
    "        data_loader (torch.utils.data.DataLoader): The target dataset to predict on.\n",
    "        loss_fn (torch.nn.Module): The loss function of model.\n",
    "        accuracy_fn: An accuracy function to compare the models predictions to the truth labels.\n",
    "\n",
    "    Returns:\n",
    "        (dict): Results of model making predictions on data_loader.\n",
    "    \"\"\"\n",
    "    loss, acc = 0, 0\n",
    "    model.eval()\n",
    "    with torch.inference_mode():\n",
    "        for X, y in tqdm(data_loader):\n",
    "            X , y = X.to(device) , y.to(device)\n",
    "            # Make predictions with the model\n",
    "            y_pred = model(X)\n",
    "            # Accumulate the loss and accuracy values per batch\n",
    "            loss += loss_fn(y_pred, y)\n",
    "            acc += accuracy_fn(y_true=y,y_pred=y_pred.argmax(dim=1)) # For accuracy, need the prediction labels (logits -> pred_prob -> pred_labels)\n",
    "        # Scale loss and acc to find the average loss/acc per batch\n",
    "        loss /= len(data_loader)\n",
    "        acc /= len(data_loader)\n",
    "        \n",
    "    return {\"model_name\": model.__class__.__name__, # only works when model was created with a class\n",
    "            \"model_loss\": loss.item(),\n",
    "            \"model_acc\": acc}"
   ]
  },
  {
   "cell_type": "code",
   "execution_count": 75,
   "id": "8e6471cc-19f2-4e94-aac4-48b15db5fc9a",
   "metadata": {},
   "outputs": [
    {
     "data": {
      "application/vnd.jupyter.widget-view+json": {
       "model_id": "c9ddfef3347a41d689786ee072785635",
       "version_major": 2,
       "version_minor": 0
      },
      "text/plain": [
       "  0%|          | 0/313 [00:00<?, ?it/s]"
      ]
     },
     "metadata": {},
     "output_type": "display_data"
    }
   ],
   "source": [
    "model_1_result = eval_model(model = model_1,\n",
    "                            data_loader = test_dataloader,\n",
    "                            loss_fn = loss_fn,\n",
    "                            accuracy_fn = accuracy_fn,\n",
    "                            device = device)"
   ]
  },
  {
   "cell_type": "code",
   "execution_count": 76,
   "id": "c3be3d41-252b-4aaa-ae1a-b7ef302c28da",
   "metadata": {},
   "outputs": [
    {
     "data": {
      "text/plain": [
       "{'model_name': 'FashionMnistModelV1',\n",
       " 'model_loss': 0.703208327293396,\n",
       " 'model_acc': 74.17132587859425}"
      ]
     },
     "execution_count": 76,
     "metadata": {},
     "output_type": "execute_result"
    }
   ],
   "source": [
    "model_1_result"
   ]
  },
  {
   "cell_type": "markdown",
   "id": "2131154d-2182-448c-a6a2-0caedd2b6664",
   "metadata": {},
   "source": [
    "## Model 2 : Building a convolutional neural networks (CNN) aslo know as convnets\n",
    "\n",
    "* `Resource Link` - https://poloclub.github.io/cnn-explainer/"
   ]
  },
  {
   "cell_type": "code",
   "execution_count": 149,
   "id": "7d3e6bc4-37be-4059-90e8-f1583dffea75",
   "metadata": {},
   "outputs": [],
   "source": [
    "# we are going to make convolution neural network\n",
    "class FashionMnistModelV2(nn.Module):\n",
    "    '''\n",
    "    Model we are replicating is the tinyvgg from the resource link above\n",
    "    '''\n",
    "    def __init__(self , input_shape : int , hidden_units : int , output_shape : int):\n",
    "        super().__init__()\n",
    "        self.conv_block_1 = nn.Sequential(\n",
    "                            nn.Conv2d(in_channels=input_shape,\n",
    "                                      out_channels=hidden_units,\n",
    "                                      kernel_size=3,\n",
    "                                      stride=1,\n",
    "                                      padding=1),\n",
    "                            nn.ReLU(),\n",
    "                            nn.Conv2d(in_channels=hidden_units,\n",
    "                                      out_channels=hidden_units,\n",
    "                                      kernel_size=3,\n",
    "                                      stride=1,\n",
    "                                      padding=1),\n",
    "                            nn.ReLU(),\n",
    "                            nn.AvgPool2d(kernel_size=2)\n",
    "        )\n",
    "        self.conv_block_2 = nn.Sequential(\n",
    "                            nn.Conv2d(in_channels=hidden_units,\n",
    "                                      out_channels=hidden_units,\n",
    "                                      kernel_size=3,\n",
    "                                      stride=1,\n",
    "                                      padding=1),\n",
    "                            nn.ReLU(),\n",
    "                            nn.Conv2d(in_channels=hidden_units,\n",
    "                                      out_channels=hidden_units,\n",
    "                                      kernel_size=3,\n",
    "                                      stride=1,\n",
    "                                      padding=1),\n",
    "                            nn.ReLU(),\n",
    "                            nn.AvgPool2d(kernel_size=2)\n",
    "        )\n",
    "        self.classifier = nn.Sequential(\n",
    "            nn.Flatten(),\n",
    "            nn.Linear(in_features=(hidden_units*7*7),out_features=output_shape) # there is trick to calculate this\n",
    "        )\n",
    "\n",
    "    def forward(self,x):\n",
    "        x = self.conv_block_1(x)\n",
    "        # print(\"Output shape of conv_block_1:\",x.shape)\n",
    "        x = self.conv_block_2(x)\n",
    "        # print(\"Output shape of conv_block_2:\",x.shape)\n",
    "        x = self.classifier(x)\n",
    "        # print(\"Output shape of Classifier:\",x.shape)\n",
    "        return x"
   ]
  },
  {
   "cell_type": "code",
   "execution_count": 150,
   "id": "99a515eb-1724-4a26-9879-22c4e087e35f",
   "metadata": {},
   "outputs": [],
   "source": [
    "torch.manual_seed(42)\n",
    "model_2 = FashionMnistModelV2(input_shape=1, # because we have 1 color channel\n",
    "                              hidden_units=10,\n",
    "                              output_shape=len(class_name)).to(device)"
   ]
  },
  {
   "cell_type": "code",
   "execution_count": 151,
   "id": "5bd35a8e-def5-4d7f-808e-2e0a8867d987",
   "metadata": {},
   "outputs": [
    {
     "data": {
      "text/plain": [
       "torch.Size([1, 28, 28])"
      ]
     },
     "execution_count": 151,
     "metadata": {},
     "output_type": "execute_result"
    }
   ],
   "source": [
    "rand_image_tensor = torch.randn([1,28,28])\n",
    "rand_image_tensor.shape"
   ]
  },
  {
   "cell_type": "code",
   "execution_count": 152,
   "id": "485f8a2a-a613-4cf9-a1cc-7dc60a861515",
   "metadata": {},
   "outputs": [
    {
     "data": {
      "text/plain": [
       "tensor([[ 0.0332, -0.0603,  0.0450, -0.0305, -0.0132,  0.0145, -0.0028, -0.0120,\n",
       "          0.0293,  0.0111]], device='cuda:0', grad_fn=<AddmmBackward0>)"
      ]
     },
     "execution_count": 152,
     "metadata": {},
     "output_type": "execute_result"
    }
   ],
   "source": [
    "model_2(image[0].unsqueeze(0).to(device))"
   ]
  },
  {
   "cell_type": "code",
   "execution_count": 153,
   "id": "f8d91c54-caca-46d6-bf3c-6beae961ef91",
   "metadata": {},
   "outputs": [],
   "source": [
    "## Setup a loss function and optimizer for model_2\n",
    "from helper_functions import accuracy_fn\n",
    "\n",
    "loss_fn = nn.CrossEntropyLoss()\n",
    "optimizer = torch.optim.SGD(params=model_2.parameters() , lr = 0.01)"
   ]
  },
  {
   "cell_type": "markdown",
   "id": "5d9d1def-1ce0-4db8-8896-cdcca320298f",
   "metadata": {},
   "source": [
    "## Training and testing the cnn model"
   ]
  },
  {
   "cell_type": "code",
   "execution_count": 155,
   "id": "95adf284-1047-46e7-8fa0-ee47141c51ff",
   "metadata": {},
   "outputs": [
    {
     "data": {
      "application/vnd.jupyter.widget-view+json": {
       "model_id": "593540c5fa754d4c887eaee684439303",
       "version_major": 2,
       "version_minor": 0
      },
      "text/plain": [
       "  0%|          | 0/3 [00:00<?, ?it/s]"
      ]
     },
     "metadata": {},
     "output_type": "display_data"
    },
    {
     "name": "stdout",
     "output_type": "stream",
     "text": [
      "Epoch : 0\n",
      "Train loss: 0.45473 | Train accuracy: 83.81%\n",
      "Test loss: 0.44653 | Test accuracy: 84.48%\n",
      "\n",
      "Epoch : 1\n",
      "Train loss: 0.42447 | Train accuracy: 84.80%\n",
      "Test loss: 0.42224 | Test accuracy: 85.04%\n",
      "\n",
      "Epoch : 2\n",
      "Train loss: 0.40153 | Train accuracy: 85.67%\n",
      "Test loss: 0.40277 | Test accuracy: 85.87%\n",
      "\n",
      "Train time on cuda : 21.874 seconds\n"
     ]
    }
   ],
   "source": [
    "torch.manual_seed(42)\n",
    "torch.cuda.manual_seed(42)\n",
    "\n",
    "# Measure the time\n",
    "import time\n",
    "train_cnn_start = time.time()\n",
    "\n",
    "# train and test model\n",
    "epoch = 3\n",
    "for epoch in tqdm(range(epochs)):\n",
    "    print(f\"Epoch : {epoch}\")\n",
    "    train_loop_function(model_2,\n",
    "                        train_dataloader,\n",
    "                        loss_fn,\n",
    "                        optimizer,\n",
    "                        accuracy_fn,\n",
    "                        device)\n",
    "    test_loop_function( test_dataloader,model_2,loss_fn,accuracy_fn,device)\n",
    "train_cnn_end = time.time()\n",
    "total_train_time_cnn = print_train_time(train_cnn_start , train_cnn_end , device)"
   ]
  },
  {
   "cell_type": "code",
   "execution_count": 156,
   "id": "ee175f79-88a3-4da9-8650-7e90935908e5",
   "metadata": {},
   "outputs": [
    {
     "data": {
      "application/vnd.jupyter.widget-view+json": {
       "model_id": "446d42305a334e4d932db04803a0aa8e",
       "version_major": 2,
       "version_minor": 0
      },
      "text/plain": [
       "  0%|          | 0/313 [00:00<?, ?it/s]"
      ]
     },
     "metadata": {},
     "output_type": "display_data"
    }
   ],
   "source": [
    "model_2_result = eval_model(model_2,test_dataloader,loss_fn,accuracy_fn,device)"
   ]
  },
  {
   "cell_type": "code",
   "execution_count": 158,
   "id": "5a5d4610-2e5f-4200-bd20-b7dd45d9c137",
   "metadata": {},
   "outputs": [
    {
     "data": {
      "text/plain": [
       "({'model_name': 'FashionMNISTModel',\n",
       "  'model_loss': 0.47632458806037903,\n",
       "  'model_acc': 83.50638977635782},\n",
       " {'model_name': 'FashionMnistModelV1',\n",
       "  'model_loss': 0.703208327293396,\n",
       "  'model_acc': 74.17132587859425},\n",
       " {'model_name': 'FashionMnistModelV2',\n",
       "  'model_loss': 0.40276703238487244,\n",
       "  'model_acc': 85.87260383386581})"
      ]
     },
     "execution_count": 158,
     "metadata": {},
     "output_type": "execute_result"
    }
   ],
   "source": [
    "model_0_results,model_1_result,model_2_result"
   ]
  },
  {
   "cell_type": "markdown",
   "id": "2299a461-67e7-4ba1-809e-bd1fc9e3430b",
   "metadata": {},
   "source": [
    "# Compare Model result and training time"
   ]
  },
  {
   "cell_type": "code",
   "execution_count": 163,
   "id": "3781203d-3383-454d-adee-5c441147288a",
   "metadata": {},
   "outputs": [],
   "source": [
    "import pandas as pd"
   ]
  },
  {
   "cell_type": "code",
   "execution_count": 164,
   "id": "d8e67baf-47b2-4f4c-8d35-c0ce46739008",
   "metadata": {},
   "outputs": [
    {
     "data": {
      "text/html": [
       "<div>\n",
       "<style scoped>\n",
       "    .dataframe tbody tr th:only-of-type {\n",
       "        vertical-align: middle;\n",
       "    }\n",
       "\n",
       "    .dataframe tbody tr th {\n",
       "        vertical-align: top;\n",
       "    }\n",
       "\n",
       "    .dataframe thead th {\n",
       "        text-align: right;\n",
       "    }\n",
       "</style>\n",
       "<table border=\"1\" class=\"dataframe\">\n",
       "  <thead>\n",
       "    <tr style=\"text-align: right;\">\n",
       "      <th></th>\n",
       "      <th>model_name</th>\n",
       "      <th>model_loss</th>\n",
       "      <th>model_acc</th>\n",
       "    </tr>\n",
       "  </thead>\n",
       "  <tbody>\n",
       "    <tr>\n",
       "      <th>0</th>\n",
       "      <td>FashionMNISTModel</td>\n",
       "      <td>0.476325</td>\n",
       "      <td>83.506390</td>\n",
       "    </tr>\n",
       "    <tr>\n",
       "      <th>1</th>\n",
       "      <td>FashionMnistModelV1</td>\n",
       "      <td>0.703208</td>\n",
       "      <td>74.171326</td>\n",
       "    </tr>\n",
       "    <tr>\n",
       "      <th>2</th>\n",
       "      <td>FashionMnistModelV2</td>\n",
       "      <td>0.402767</td>\n",
       "      <td>85.872604</td>\n",
       "    </tr>\n",
       "  </tbody>\n",
       "</table>\n",
       "</div>"
      ],
      "text/plain": [
       "            model_name  model_loss  model_acc\n",
       "0    FashionMNISTModel    0.476325  83.506390\n",
       "1  FashionMnistModelV1    0.703208  74.171326\n",
       "2  FashionMnistModelV2    0.402767  85.872604"
      ]
     },
     "execution_count": 164,
     "metadata": {},
     "output_type": "execute_result"
    }
   ],
   "source": [
    "compare_results = pd.DataFrame([model_0_results,model_1_result,model_2_result])\n",
    "compare_results"
   ]
  },
  {
   "cell_type": "code",
   "execution_count": null,
   "id": "c30f3a5d-ec91-42d8-9578-7f589a3169ae",
   "metadata": {},
   "outputs": [],
   "source": []
  },
  {
   "cell_type": "code",
   "execution_count": null,
   "id": "05346c4a-87ff-4e1d-b1e7-89ab020ff3a1",
   "metadata": {},
   "outputs": [],
   "source": []
  },
  {
   "cell_type": "code",
   "execution_count": null,
   "id": "c8f67ccf-f440-4399-a7b8-b4e358a8ddd6",
   "metadata": {},
   "outputs": [],
   "source": []
  },
  {
   "cell_type": "code",
   "execution_count": null,
   "id": "5890b0f3-8823-4baa-9573-7fd442fe28fd",
   "metadata": {},
   "outputs": [],
   "source": []
  },
  {
   "cell_type": "code",
   "execution_count": null,
   "id": "2919440b-3846-4f0d-9284-c45e8d87541b",
   "metadata": {},
   "outputs": [],
   "source": []
  },
  {
   "cell_type": "markdown",
   "id": "1586cfa9-ffce-45ed-8b0d-3493bd84412b",
   "metadata": {},
   "source": [
    "### Stepping through `nn.Conv2D`"
   ]
  },
  {
   "cell_type": "code",
   "execution_count": 87,
   "id": "c4e0c14d-d1f6-4477-9ab0-bb6238959360",
   "metadata": {},
   "outputs": [
    {
     "name": "stdout",
     "output_type": "stream",
     "text": [
      "Image batch shape : torch.Size([32, 3, 64, 64])\n",
      "Single image shape : torch.Size([3, 64, 64])\n",
      "Test image : tensor([[[ 1.9269,  1.4873,  0.9007,  ...,  1.8446, -1.1845,  1.3835],\n",
      "         [ 1.4451,  0.8564,  2.2181,  ...,  0.3399,  0.7200,  0.4114],\n",
      "         [ 1.9312,  1.0119, -1.4364,  ..., -0.5558,  0.7043,  0.7099],\n",
      "         ...,\n",
      "         [-0.5610, -0.4830,  0.4770,  ..., -0.2713, -0.9537, -0.6737],\n",
      "         [ 0.3076, -0.1277,  0.0366,  ..., -2.0060,  0.2824, -0.8111],\n",
      "         [-1.5486,  0.0485, -0.7712,  ..., -0.1403,  0.9416, -0.0118]],\n",
      "\n",
      "        [[-0.5197,  1.8524,  1.8365,  ...,  0.8935, -1.5114, -0.8515],\n",
      "         [ 2.0818,  1.0677, -1.4277,  ...,  1.6612, -2.6223, -0.4319],\n",
      "         [-0.1010, -0.4388, -1.9775,  ...,  0.2106,  0.2536, -0.7318],\n",
      "         ...,\n",
      "         [ 0.2779,  0.7342, -0.3736,  ..., -0.4601,  0.1815,  0.1850],\n",
      "         [ 0.7205, -0.2833,  0.0937,  ..., -0.1002, -2.3609,  2.2465],\n",
      "         [-1.3242, -0.1973,  0.2920,  ...,  0.5409,  0.6940,  1.8563]],\n",
      "\n",
      "        [[-0.7978,  1.0261,  1.1465,  ...,  1.2134,  0.9354, -0.0780],\n",
      "         [-1.4647, -1.9571,  0.1017,  ..., -1.9986, -0.7409,  0.7011],\n",
      "         [-1.3938,  0.8466, -1.7191,  ..., -1.1867,  0.1320,  0.3407],\n",
      "         ...,\n",
      "         [ 0.8206, -0.3745,  1.2499,  ..., -0.0676,  0.0385,  0.6335],\n",
      "         [-0.5589, -0.3393,  0.2347,  ...,  2.1181,  2.4569,  1.3083],\n",
      "         [-0.4092,  1.5199,  0.2401,  ..., -0.2558,  0.7870,  0.9924]]])\n"
     ]
    }
   ],
   "source": [
    "torch.manual_seed(42)\n",
    "\n",
    "# create a batch of images\n",
    "images = torch.randn([32,3,64,64])\n",
    "test_image = images[0]\n",
    "\n",
    "print(f\"Image batch shape : {images.shape}\")\n",
    "print(f\"Single image shape : {test_image.shape}\")\n",
    "print(f\"Test image : {test_image}\")"
   ]
  },
  {
   "cell_type": "code",
   "execution_count": 105,
   "id": "5b97283a-a9b9-4284-88ee-e8a12bb7fdbc",
   "metadata": {},
   "outputs": [],
   "source": [
    "torch.manual_seed(42)\n",
    "# create a single conv2d layer\n",
    "conv_layer = nn.Conv2d(in_channels=3, # color channel\n",
    "                       out_channels=10,\n",
    "                       kernel_size=(3,3),\n",
    "                       stride=1,\n",
    "                       padding=1)\n",
    "# passing the data through conv layer\n",
    "conv_ouput = conv_layer(test_image)"
   ]
  },
  {
   "cell_type": "code",
   "execution_count": 106,
   "id": "e87971d3-7bb6-42ec-bd78-580fb0b51484",
   "metadata": {},
   "outputs": [
    {
     "data": {
      "text/plain": [
       "torch.Size([10, 64, 64])"
      ]
     },
     "execution_count": 106,
     "metadata": {},
     "output_type": "execute_result"
    }
   ],
   "source": [
    "conv_ouput.shape"
   ]
  },
  {
   "cell_type": "markdown",
   "id": "1ff27e8e-65d5-4fdf-b4f5-8d76a592d4bf",
   "metadata": {},
   "source": [
    "### Stepping through nn.MaxPool2dm"
   ]
  },
  {
   "cell_type": "code",
   "execution_count": 107,
   "id": "8dde61d6-aad5-4c12-9e9c-2b52a8e3e343",
   "metadata": {},
   "outputs": [
    {
     "data": {
      "text/plain": [
       "torch.Size([3, 64, 64])"
      ]
     },
     "execution_count": 107,
     "metadata": {},
     "output_type": "execute_result"
    }
   ],
   "source": [
    "test_image.shape"
   ]
  },
  {
   "cell_type": "code",
   "execution_count": 112,
   "id": "aa655138-af44-483f-bfa2-e2083cfb8e8e",
   "metadata": {},
   "outputs": [
    {
     "name": "stdout",
     "output_type": "stream",
     "text": [
      "Test image original shape : torch.Size([3, 64, 64])\n",
      "Test image with unsqueezed dimension : torch.Size([1, 3, 64, 64])\n",
      "Shape after going through conv layer(): torch.Size([10, 64, 64])\n",
      "Shape after going through conv_layer() and max_pool_layer(): torch.Size([10, 32, 32])\n"
     ]
    }
   ],
   "source": [
    "# print out original image shape without unsqueezed dimensioin\n",
    "print(f\"Test image original shape : {test_image.shape}\")\n",
    "print(f\"Test image with unsqueezed dimension : {test_image.unsqueeze(0).shape}\")\n",
    "\n",
    "# create a sample nn.MaxPool2dd layer \n",
    "max_pool_layer = nn.MaxPool2d(kernel_size=2)\n",
    "\n",
    "# pass data through conv layer \n",
    "test_image_through_conv = conv_layer(test_image)\n",
    "print(f\"Shape after going through conv layer(): {test_image_through_conv.shape}\")\n",
    "\n",
    "test_image_passing_through_max_layer = max_pool_layer(test_image_through_conv)\n",
    "print(f\"Shape after going through conv_layer() and max_pool_layer(): {test_image_passing_through_max_layer.shape}\") "
   ]
  },
  {
   "cell_type": "code",
   "execution_count": 113,
   "id": "b0a76ea4-9d0c-4a1b-b7dd-31198a690193",
   "metadata": {},
   "outputs": [
    {
     "name": "stdout",
     "output_type": "stream",
     "text": [
      "\n",
      " Random Tensor : \n",
      " tensor([[[[0.3367, 0.1288],\n",
      "          [0.2345, 0.2303]]]])\n",
      "\n",
      " Random Tensor shape : torch.Size([1, 1, 2, 2])\n",
      "\n",
      " Max Pool Tensor : \n",
      " tensor([[[[0.3367]]]])\n",
      "\n",
      " Max Pool Tensor shape : torch.Size([1, 1, 1, 1])\n"
     ]
    }
   ],
   "source": [
    "torch.manual_seed(42)\n",
    "# create a random tensor with a similar number of dimension to our images\n",
    "random_tensor = torch.randn(size = [1,1,2,2])\n",
    "print(f\"\\n Random Tensor : \\n {random_tensor}\")\n",
    "print(f\"\\n Random Tensor shape : {random_tensor.shape}\")\n",
    "# create max_pool_layer \n",
    "max_pool_layer = nn.MaxPool2d(kernel_size=2)\n",
    "\n",
    "# passing the random tensor throught the max_pool_layers\n",
    "max_pool_tensor = max_pool_layer(random_tensor)\n",
    "print(f\"\\n Max Pool Tensor : \\n {max_pool_tensor}\")\n",
    "print(f\"\\n Max Pool Tensor shape : {max_pool_tensor.shape}\")"
   ]
  },
  {
   "cell_type": "code",
   "execution_count": 115,
   "id": "e1af30ba-436d-4ac0-9864-7614829d7ad9",
   "metadata": {},
   "outputs": [
    {
     "name": "stdout",
     "output_type": "stream",
     "text": [
      "\n",
      " Max Pool Tensor : \n",
      " tensor([[[[0.3367]]]])\n",
      "\n",
      " Max Pool Tensor shape : torch.Size([1, 1, 1, 1])\n",
      "\n",
      " Flatten Tensor : \n",
      " tensor([[0.3367]])\n",
      "\n",
      " Flatten Tensor shape : torch.Size([1, 1])\n"
     ]
    }
   ],
   "source": [
    "# now passing max_pool_tensor to flatten layer see what happens\n",
    "flatten_layer = nn.Flatten()\n",
    "output_tensor = flatten_layer(max_pool_tensor)\n",
    "\n",
    "print(f\"\\n Max Pool Tensor : \\n {max_pool_tensor}\")\n",
    "print(f\"\\n Max Pool Tensor shape : {max_pool_tensor.shape}\")\n",
    "\n",
    "print(f\"\\n Flatten Tensor : \\n {output_tensor}\")\n",
    "print(f\"\\n Flatten Tensor shape : {output_tensor.shape}\")"
   ]
  },
  {
   "cell_type": "code",
   "execution_count": 116,
   "id": "c2d60f80-00e4-464b-a03e-11a1bd176c09",
   "metadata": {},
   "outputs": [
    {
     "data": {
      "text/plain": [
       "'Summary we give original images to convulution layer then we pass to max_pooling layer -> this compress the \\nimage based on the kernel size and then we can flatten the max_pool_tensor and then pass it to linear layer'"
      ]
     },
     "execution_count": 116,
     "metadata": {},
     "output_type": "execute_result"
    }
   ],
   "source": [
    "'''Summary we give original images to convulution layer then we pass to max_pooling layer -> this compress the \n",
    "image based on the kernel size and then we can flatten the max_pool_tensor and then pass it to linear layer'''"
   ]
  },
  {
   "cell_type": "code",
   "execution_count": 119,
   "id": "29b166f4-19c3-4220-989f-ad2cabede1c6",
   "metadata": {},
   "outputs": [
    {
     "data": {
      "text/plain": [
       "tensor([[[[0., 0., 0.,  ..., 0., 0., 0.],\n",
       "          [0., 0., 0.,  ..., 0., 0., 0.],\n",
       "          [0., 0., 0.,  ..., 0., 0., 0.],\n",
       "          ...,\n",
       "          [0., 0., 0.,  ..., 0., 0., 0.],\n",
       "          [0., 0., 0.,  ..., 0., 0., 0.],\n",
       "          [0., 0., 0.,  ..., 0., 0., 0.]]],\n",
       "\n",
       "\n",
       "        [[[0., 0., 0.,  ..., 0., 0., 0.],\n",
       "          [0., 0., 0.,  ..., 0., 0., 0.],\n",
       "          [0., 0., 0.,  ..., 0., 0., 0.],\n",
       "          ...,\n",
       "          [0., 0., 0.,  ..., 0., 0., 0.],\n",
       "          [0., 0., 0.,  ..., 0., 0., 0.],\n",
       "          [0., 0., 0.,  ..., 0., 0., 0.]]],\n",
       "\n",
       "\n",
       "        [[[0., 0., 0.,  ..., 0., 0., 0.],\n",
       "          [0., 0., 0.,  ..., 0., 0., 0.],\n",
       "          [0., 0., 0.,  ..., 0., 0., 0.],\n",
       "          ...,\n",
       "          [0., 0., 0.,  ..., 0., 0., 0.],\n",
       "          [0., 0., 0.,  ..., 0., 0., 0.],\n",
       "          [0., 0., 0.,  ..., 0., 0., 0.]]],\n",
       "\n",
       "\n",
       "        ...,\n",
       "\n",
       "\n",
       "        [[[0., 0., 0.,  ..., 0., 0., 0.],\n",
       "          [0., 0., 0.,  ..., 0., 0., 0.],\n",
       "          [0., 0., 0.,  ..., 0., 0., 0.],\n",
       "          ...,\n",
       "          [0., 0., 0.,  ..., 0., 0., 0.],\n",
       "          [0., 0., 0.,  ..., 0., 0., 0.],\n",
       "          [0., 0., 0.,  ..., 0., 0., 0.]]],\n",
       "\n",
       "\n",
       "        [[[0., 0., 0.,  ..., 0., 0., 0.],\n",
       "          [0., 0., 0.,  ..., 0., 0., 0.],\n",
       "          [0., 0., 0.,  ..., 0., 0., 0.],\n",
       "          ...,\n",
       "          [0., 0., 0.,  ..., 0., 0., 0.],\n",
       "          [0., 0., 0.,  ..., 0., 0., 0.],\n",
       "          [0., 0., 0.,  ..., 0., 0., 0.]]],\n",
       "\n",
       "\n",
       "        [[[0., 0., 0.,  ..., 0., 0., 0.],\n",
       "          [0., 0., 0.,  ..., 0., 0., 0.],\n",
       "          [0., 0., 0.,  ..., 0., 0., 0.],\n",
       "          ...,\n",
       "          [0., 0., 0.,  ..., 0., 0., 0.],\n",
       "          [0., 0., 0.,  ..., 0., 0., 0.],\n",
       "          [0., 0., 0.,  ..., 0., 0., 0.]]]])"
      ]
     },
     "execution_count": 119,
     "metadata": {},
     "output_type": "execute_result"
    }
   ],
   "source": [
    "image"
   ]
  },
  {
   "cell_type": "code",
   "execution_count": 125,
   "id": "1095c367-41cb-457f-945a-ad41fd8e078b",
   "metadata": {},
   "outputs": [
    {
     "data": {
      "text/plain": [
       "<matplotlib.image.AxesImage at 0x702f34c80a90>"
      ]
     },
     "execution_count": 125,
     "metadata": {},
     "output_type": "execute_result"
    },
    {
     "data": {
      "image/png": "[encoded data removed]",
      "text/plain": [
       "<Figure size 640x480 with 1 Axes>"
      ]
     },
     "metadata": {},
     "output_type": "display_data"
    }
   ],
   "source": [
    "plt.imshow(image[0].squeeze(),cmap = 'gray')"
   ]
  },
  {
   "cell_type": "code",
   "execution_count": null,
   "id": "8dea9b7a-8ed8-4c88-93e7-0b022df4d245",
   "metadata": {},
   "outputs": [],
   "source": []
  }
 ],
 "metadata": {
  "kernelspec": {
   "display_name": "cuda-gpt",
   "language": "python",
   "name": "cuda"
  },
  "language_info": {
   "codemirror_mode": {
    "name": "ipython",
    "version": 3
   },
   "file_extension": ".py",
   "mimetype": "text/x-python",
   "name": "python",
   "nbconvert_exporter": "python",
   "pygments_lexer": "ipython3",
   "version": "3.10.12"
  }
 },
 "nbformat": 4,
 "nbformat_minor": 5
}
