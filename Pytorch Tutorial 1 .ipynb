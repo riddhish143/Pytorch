{
 "cells": [
  {
   "cell_type": "markdown",
   "id": "b4892b77-a5e8-4d04-8994-3bd3ba7d8638",
   "metadata": {},
   "source": [
    "## PyTorch Fundamentals"
   ]
  },
  {
   "cell_type": "code",
   "execution_count": 1,
   "id": "e7d19917-09c8-4610-b5bf-bdf2d9b9437e",
   "metadata": {},
   "outputs": [
    {
     "name": "stdout",
     "output_type": "stream",
     "text": [
      "2.2.2+cu118\n"
     ]
    }
   ],
   "source": [
    "import torch\n",
    "import pandas as pd\n",
    "import numpy as np\n",
    "import matplotlib.pyplot as plt\n",
    "print(torch.__version__)"
   ]
  },
  {
   "cell_type": "markdown",
   "id": "5dae220a-8ee5-4163-ab1a-b157137ee2f3",
   "metadata": {},
   "source": [
    "## Introduction to Tensors in PyTorch\n",
    "\n",
    "### Creating Tensor"
   ]
  },
  {
   "cell_type": "code",
   "execution_count": 2,
   "id": "1b02e5b3-2490-49d4-bb8a-2378776f4818",
   "metadata": {},
   "outputs": [
    {
     "data": {
      "text/plain": [
       "tensor(7)"
      ]
     },
     "execution_count": 2,
     "metadata": {},
     "output_type": "execute_result"
    }
   ],
   "source": [
    "# scaler tensor\n",
    "scaler = torch.tensor(7)\n",
    "scaler"
   ]
  },
  {
   "cell_type": "code",
   "execution_count": 3,
   "id": "8aec6ce1-0cec-419e-8ade-8e200ce89f6f",
   "metadata": {},
   "outputs": [
    {
     "data": {
      "text/plain": [
       "0"
      ]
     },
     "execution_count": 3,
     "metadata": {},
     "output_type": "execute_result"
    }
   ],
   "source": [
    "scaler.ndim"
   ]
  },
  {
   "cell_type": "code",
   "execution_count": 4,
   "id": "c0876857-495f-4020-851d-8c15e3fa792c",
   "metadata": {},
   "outputs": [
    {
     "data": {
      "text/plain": [
       "7"
      ]
     },
     "execution_count": 4,
     "metadata": {},
     "output_type": "execute_result"
    }
   ],
   "source": [
    "# This give us a python int\n",
    "scaler.item()"
   ]
  },
  {
   "cell_type": "code",
   "execution_count": 5,
   "id": "5eb6e66a-7f40-4b56-884f-6a280b9071f1",
   "metadata": {},
   "outputs": [],
   "source": [
    "# vector tensor\n",
    "vector = torch.tensor([7,7])"
   ]
  },
  {
   "cell_type": "code",
   "execution_count": 6,
   "id": "dc9cc0b6-4665-4b71-a006-6e94caa7897e",
   "metadata": {},
   "outputs": [
    {
     "data": {
      "text/plain": [
       "1"
      ]
     },
     "execution_count": 6,
     "metadata": {},
     "output_type": "execute_result"
    }
   ],
   "source": [
    "vector.ndim"
   ]
  },
  {
   "cell_type": "code",
   "execution_count": 7,
   "id": "a09bb08b-43d0-4112-bcb8-73970bea13b8",
   "metadata": {},
   "outputs": [
    {
     "data": {
      "text/plain": [
       "torch.Size([2])"
      ]
     },
     "execution_count": 7,
     "metadata": {},
     "output_type": "execute_result"
    }
   ],
   "source": [
    "vector.shape"
   ]
  },
  {
   "cell_type": "code",
   "execution_count": 8,
   "id": "e2e25bc3-125a-4133-9dad-d0d7bd362537",
   "metadata": {},
   "outputs": [
    {
     "data": {
      "text/plain": [
       "tensor([[ 7,  7],\n",
       "        [ 7, 10]])"
      ]
     },
     "execution_count": 8,
     "metadata": {},
     "output_type": "execute_result"
    }
   ],
   "source": [
    "# Matrix Tensor\n",
    "\n",
    "MATRIX = torch.tensor([[7,7],[7,10]])\n",
    "MATRIX"
   ]
  },
  {
   "cell_type": "code",
   "execution_count": 9,
   "id": "39185b27-2f46-47f2-89e5-8cf500ef98b1",
   "metadata": {},
   "outputs": [
    {
     "data": {
      "text/plain": [
       "2"
      ]
     },
     "execution_count": 9,
     "metadata": {},
     "output_type": "execute_result"
    }
   ],
   "source": [
    "MATRIX.ndim"
   ]
  },
  {
   "cell_type": "code",
   "execution_count": 10,
   "id": "f3f83a4f-ea05-4138-93ff-ea5bcae63081",
   "metadata": {},
   "outputs": [
    {
     "data": {
      "text/plain": [
       "tensor([ 7, 10])"
      ]
     },
     "execution_count": 10,
     "metadata": {},
     "output_type": "execute_result"
    }
   ],
   "source": [
    "MATRIX[1]"
   ]
  },
  {
   "cell_type": "code",
   "execution_count": 11,
   "id": "12189f73-5af4-425a-9acf-8a828bb9cd7a",
   "metadata": {},
   "outputs": [
    {
     "data": {
      "text/plain": [
       "torch.Size([2, 2])"
      ]
     },
     "execution_count": 11,
     "metadata": {},
     "output_type": "execute_result"
    }
   ],
   "source": [
    "MATRIX.shape"
   ]
  },
  {
   "cell_type": "code",
   "execution_count": 12,
   "id": "9a6a1225-74c1-4712-b43a-02c9ecf5ad9f",
   "metadata": {},
   "outputs": [
    {
     "data": {
      "text/plain": [
       "tensor([[[[1, 2, 3, 4, 5],\n",
       "          [1, 2, 3, 5, 6],\n",
       "          [4, 5, 6, 7, 3]]]])"
      ]
     },
     "execution_count": 12,
     "metadata": {},
     "output_type": "execute_result"
    }
   ],
   "source": [
    "# TENSOR\n",
    "\n",
    "TENSOR = torch.tensor([[[[1,2,3,4,5],\n",
    "                         [1,2,3,5,6],\n",
    "                         [4,5,6,7,3]]]])\n",
    "TENSOR"
   ]
  },
  {
   "cell_type": "code",
   "execution_count": 13,
   "id": "8aef59d5-a382-4ad7-9b80-a7ee282da0a3",
   "metadata": {},
   "outputs": [
    {
     "data": {
      "text/plain": [
       "4"
      ]
     },
     "execution_count": 13,
     "metadata": {},
     "output_type": "execute_result"
    }
   ],
   "source": [
    "TENSOR.ndim"
   ]
  },
  {
   "cell_type": "code",
   "execution_count": 14,
   "id": "b4fcaf4d-ea21-453e-852c-fd9ba7db12e8",
   "metadata": {},
   "outputs": [
    {
     "data": {
      "text/plain": [
       "torch.Size([1, 1, 3, 5])"
      ]
     },
     "execution_count": 14,
     "metadata": {},
     "output_type": "execute_result"
    }
   ],
   "source": [
    "TENSOR.shape"
   ]
  },
  {
   "cell_type": "markdown",
   "id": "8a32b04d-187e-414c-a224-5c0d698771c7",
   "metadata": {},
   "source": [
    "## RANDOM TENSORS\n",
    "\n",
    "#### WHY RANDOM TENSORS?\n",
    "Random tensor are important because the way neural network learn is that they start with tensor full of random no and then adjust this tensor\n",
    "```\n",
    "start with random tensor -> look at data -> update random numbers -> look at data -> updata random numbers\n",
    "```\n",
    "Torch Random Tensor : https://pytorch.org/docs/stable/generated/torch.rand.html"
   ]
  },
  {
   "cell_type": "code",
   "execution_count": 15,
   "id": "0aabdaea-0323-4cf6-ab64-755699edbf10",
   "metadata": {},
   "outputs": [],
   "source": [
    "# CREATING A RANDOM TENSOR  OF SIZE (3,4)\n",
    "\n",
    "random_tensor = torch.rand((1,1,1,3,4),dtype = torch.float32)"
   ]
  },
  {
   "cell_type": "code",
   "execution_count": 16,
   "id": "80adcfbd-74a0-4e66-908c-ac7480a02218",
   "metadata": {},
   "outputs": [
    {
     "data": {
      "text/plain": [
       "tensor([[[[[0.4395, 0.0965, 0.5477, 0.1041],\n",
       "           [0.5258, 0.5551, 0.9595, 0.2556],\n",
       "           [0.5286, 0.2570, 0.6914, 0.5588]]]]])"
      ]
     },
     "execution_count": 16,
     "metadata": {},
     "output_type": "execute_result"
    }
   ],
   "source": [
    "random_tensor"
   ]
  },
  {
   "cell_type": "code",
   "execution_count": 17,
   "id": "8a593afd-7780-43a5-b42d-9586d7157298",
   "metadata": {},
   "outputs": [
    {
     "data": {
      "text/plain": [
       "5"
      ]
     },
     "execution_count": 17,
     "metadata": {},
     "output_type": "execute_result"
    }
   ],
   "source": [
    "random_tensor.ndim"
   ]
  },
  {
   "cell_type": "code",
   "execution_count": 18,
   "id": "368e63e4-8d42-4382-b6d3-f90f7c4deb14",
   "metadata": {},
   "outputs": [
    {
     "data": {
      "text/plain": [
       "torch.Size([1, 1, 1, 3, 4])"
      ]
     },
     "execution_count": 18,
     "metadata": {},
     "output_type": "execute_result"
    }
   ],
   "source": [
    "random_tensor.shape"
   ]
  },
  {
   "cell_type": "code",
   "execution_count": 19,
   "id": "cfbafe00-122e-41f4-911e-49c439ca4106",
   "metadata": {},
   "outputs": [
    {
     "data": {
      "text/plain": [
       "(3, torch.Size([3, 28, 28]))"
      ]
     },
     "execution_count": 19,
     "metadata": {},
     "output_type": "execute_result"
    }
   ],
   "source": [
    "# CREATING A RANDOM NUMBER WITH SIMILAR SHAPE TO AN IMAGE TENSOR\n",
    "\n",
    "random_image_size_tensor = torch.rand((3,28,28)) # NO OF COLOR CHANNELS(RBG) , HEIGHT , WIDTH\n",
    "random_image_size_tensor.ndim , random_image_size_tensor.shape"
   ]
  },
  {
   "cell_type": "markdown",
   "id": "f613fd2a-29a3-4564-b7c3-cc1068207fd2",
   "metadata": {},
   "source": [
    "### ZEROS AND ONES"
   ]
  },
  {
   "cell_type": "code",
   "execution_count": 20,
   "id": "88f79bf5-11ad-4c09-afeb-d5a6edc307ec",
   "metadata": {},
   "outputs": [],
   "source": [
    "#  CREATING A TENSOR OF ALL ZEROS\n",
    "zeros = torch.zeros((2,4))"
   ]
  },
  {
   "cell_type": "code",
   "execution_count": 21,
   "id": "d727736f-d486-4fac-b9e3-d7dc276a4cb0",
   "metadata": {},
   "outputs": [
    {
     "data": {
      "text/plain": [
       "tensor([[0., 0., 0., 0.],\n",
       "        [0., 0., 0., 0.]])"
      ]
     },
     "execution_count": 21,
     "metadata": {},
     "output_type": "execute_result"
    }
   ],
   "source": [
    "zeros"
   ]
  },
  {
   "cell_type": "code",
   "execution_count": 22,
   "id": "e5e56448-f39b-4829-899f-61a04ada77ab",
   "metadata": {},
   "outputs": [],
   "source": [
    "# CREATING A TENSOR OF ALL ONE\n",
    "ones = torch.ones((1,12))"
   ]
  },
  {
   "cell_type": "code",
   "execution_count": 23,
   "id": "ea824f39-04bd-4209-9845-04425292bc0f",
   "metadata": {},
   "outputs": [
    {
     "data": {
      "text/plain": [
       "tensor([[1., 1., 1., 1., 1., 1., 1., 1., 1., 1., 1., 1.]])"
      ]
     },
     "execution_count": 23,
     "metadata": {},
     "output_type": "execute_result"
    }
   ],
   "source": [
    "ones"
   ]
  },
  {
   "cell_type": "code",
   "execution_count": 24,
   "id": "2d88fa0a-35eb-4be1-b2a5-ea51f7db467a",
   "metadata": {},
   "outputs": [
    {
     "data": {
      "text/plain": [
       "torch.float32"
      ]
     },
     "execution_count": 24,
     "metadata": {},
     "output_type": "execute_result"
    }
   ],
   "source": [
    "ones.dtype"
   ]
  },
  {
   "cell_type": "markdown",
   "id": "9dd88211-4ca6-4d6a-97c0-64ba03b9e0f9",
   "metadata": {},
   "source": [
    "### creating a range of tensor and tensor like"
   ]
  },
  {
   "cell_type": "code",
   "execution_count": 25,
   "id": "45200ac6-740a-4c63-873f-7ffab59562ec",
   "metadata": {},
   "outputs": [],
   "source": [
    "# using torch arange\n",
    "range = torch.arange(1,10,2)"
   ]
  },
  {
   "cell_type": "code",
   "execution_count": 26,
   "id": "b86d6642-ec4c-4a81-afb0-1dc7b9a1c01f",
   "metadata": {},
   "outputs": [
    {
     "data": {
      "text/plain": [
       "tensor([1, 3, 5, 7, 9])"
      ]
     },
     "execution_count": 26,
     "metadata": {},
     "output_type": "execute_result"
    }
   ],
   "source": [
    "range"
   ]
  },
  {
   "cell_type": "code",
   "execution_count": 27,
   "id": "87993b43-18e3-4d8a-95c3-587a15bd66cb",
   "metadata": {},
   "outputs": [],
   "source": [
    "# create tensor like\n",
    "new_zeros = torch.zeros_like(input = range)"
   ]
  },
  {
   "cell_type": "code",
   "execution_count": 28,
   "id": "f879d12b-1fb3-4ba8-8d39-370ff0b92c47",
   "metadata": {},
   "outputs": [
    {
     "data": {
      "text/plain": [
       "tensor([0, 0, 0, 0, 0])"
      ]
     },
     "execution_count": 28,
     "metadata": {},
     "output_type": "execute_result"
    }
   ],
   "source": [
    "new_zeros"
   ]
  },
  {
   "cell_type": "code",
   "execution_count": 29,
   "id": "2f5eaca0-fcee-46b3-a9ca-c4adc6b54d4d",
   "metadata": {},
   "outputs": [
    {
     "data": {
      "text/plain": [
       "tensor([0, 0, 0, 0, 0])"
      ]
     },
     "execution_count": 29,
     "metadata": {},
     "output_type": "execute_result"
    }
   ],
   "source": [
    "new_zeros # same shape like range tensor"
   ]
  },
  {
   "cell_type": "markdown",
   "id": "3b150348-4397-4192-9772-40cb757b1d6b",
   "metadata": {},
   "source": [
    "### DTYPE IN TORCH\n",
    "\n",
    "**Note:** Tensor dtype has a three big error that can come accross while doing deep learning:\n",
    "1. tensor not right datatype\n",
    "2. tensor not right shape\n",
    "3. tensor not on right device"
   ]
  },
  {
   "cell_type": "code",
   "execution_count": 30,
   "id": "dfa7d1a2-7145-4daf-b406-a4d53ce31718",
   "metadata": {},
   "outputs": [
    {
     "data": {
      "text/plain": [
       "(torch.Size([3]), torch.float32, device(type='cpu'))"
      ]
     },
     "execution_count": 30,
     "metadata": {},
     "output_type": "execute_result"
    }
   ],
   "source": [
    " # Default datatype for tensors is float32\n",
    "float_32_tensor = torch.tensor([3.0, 6.0, 9.0],\n",
    "                               dtype=None, # defaults to None, which is torch.float32 or whatever datatype is passed\n",
    "                               device= \"cpu\", # defaults to None, which uses the default tensor type\n",
    "                               requires_grad=False) # if True, operations performed on the tensor are recorded\n",
    "\n",
    "float_32_tensor.shape, float_32_tensor.dtype, float_32_tensor.device"
   ]
  },
  {
   "cell_type": "code",
   "execution_count": 32,
   "id": "3325e1b0-0b39-44a6-96de-db55b4f6633d",
   "metadata": {},
   "outputs": [],
   "source": [
    "# How to change the data type in pytorch\n",
    "float_16 = float_32_tensor.type(torch.float16)"
   ]
  },
  {
   "cell_type": "code",
   "execution_count": 33,
   "id": "8c25d96b-8a4c-40ae-bf06-8ca4bc26b98d",
   "metadata": {},
   "outputs": [
    {
     "data": {
      "text/plain": [
       "tensor([ 9., 36., 81.])"
      ]
     },
     "execution_count": 33,
     "metadata": {},
     "output_type": "execute_result"
    }
   ],
   "source": [
    "float_16 * float_32_tensor"
   ]
  },
  {
   "cell_type": "markdown",
   "id": "b271e5bb-3e6d-4d97-b77b-3a9aaba111e6",
   "metadata": {},
   "source": [
    "### Manipulating Tensor (Tensor Operation)\n",
    "1. Addition\n",
    "2. Multiplication(Element wise)\n",
    "3. Subtraction\n",
    "4. Matrix Multiplication\n",
    "5. Division"
   ]
  },
  {
   "cell_type": "code",
   "execution_count": 34,
   "id": "10226a57-6cbe-42c5-93f6-5161545dac27",
   "metadata": {},
   "outputs": [
    {
     "data": {
      "text/plain": [
       "tensor([11, 12, 13, 14])"
      ]
     },
     "execution_count": 34,
     "metadata": {},
     "output_type": "execute_result"
    }
   ],
   "source": [
    "x = torch.tensor([1,2,3,4])\n",
    "x = x + 10\n",
    "x"
   ]
  },
  {
   "cell_type": "code",
   "execution_count": 35,
   "id": "c9df244c-f6d3-4ca1-a489-4411f1949634",
   "metadata": {},
   "outputs": [
    {
     "data": {
      "text/plain": [
       "tensor([10, 20, 30, 40])"
      ]
     },
     "execution_count": 35,
     "metadata": {},
     "output_type": "execute_result"
    }
   ],
   "source": [
    "x = torch.tensor([1,2,3,4])\n",
    "x = x * 10\n",
    "x"
   ]
  },
  {
   "cell_type": "code",
   "execution_count": 36,
   "id": "37b39936-2fc1-4bf4-b440-87e86a0207ba",
   "metadata": {},
   "outputs": [
    {
     "data": {
      "text/plain": [
       "tensor([-9, -8, -7, -6])"
      ]
     },
     "execution_count": 36,
     "metadata": {},
     "output_type": "execute_result"
    }
   ],
   "source": [
    "x = torch.tensor([1,2,3,4])\n",
    "x = x - 10\n",
    "x"
   ]
  },
  {
   "cell_type": "code",
   "execution_count": 37,
   "id": "54c8f2e4-5826-4459-8e91-630b8993e469",
   "metadata": {},
   "outputs": [
    {
     "data": {
      "text/plain": [
       "tensor([-90, -80, -70, -60])"
      ]
     },
     "execution_count": 37,
     "metadata": {},
     "output_type": "execute_result"
    }
   ],
   "source": [
    "# Trying pytorch in built function\n",
    "torch.mul(x,10)"
   ]
  },
  {
   "cell_type": "code",
   "execution_count": 38,
   "id": "d9380268-ef41-41e7-b53a-e77fb61d7d10",
   "metadata": {},
   "outputs": [
    {
     "data": {
      "text/plain": [
       "tensor([91, 92, 93, 94])"
      ]
     },
     "execution_count": 38,
     "metadata": {},
     "output_type": "execute_result"
    }
   ],
   "source": [
    "torch.add(x,100)"
   ]
  },
  {
   "cell_type": "markdown",
   "id": "74ac03a4-a6c9-477c-b70c-c5dc87c77444",
   "metadata": {},
   "source": [
    "### Matrix Multiplication\n",
    "\n",
    "Two main ways of performing multiplication in neural network and deep learning\n",
    "\n",
    "1. Element wise Multiplication\n",
    "2. Matrix Multiplication(Dot product)\n",
    "\n",
    "There are two main rule that performing matrix multiplication needs to satisfy:\n",
    "1. Inner dimension must match\n",
    "2. `(2,3) @ (3,2) = (2,2)`"
   ]
  },
  {
   "cell_type": "code",
   "execution_count": 39,
   "id": "2fef5470-a6be-4504-8068-6a46b5ce12dd",
   "metadata": {},
   "outputs": [
    {
     "name": "stdout",
     "output_type": "stream",
     "text": [
      "tensor([-9, -8, -7, -6]) * tensor([-9, -8, -7, -6])\n",
      "tensor([81, 64, 49, 36])\n"
     ]
    }
   ],
   "source": [
    "# Element wise Multiplication\n",
    "print(f'{x} * {x}')\n",
    "print(f'{x*x}')"
   ]
  },
  {
   "cell_type": "code",
   "execution_count": 40,
   "id": "66b03adf-94d0-493b-8a6c-9330c1de8d29",
   "metadata": {},
   "outputs": [
    {
     "name": "stdout",
     "output_type": "stream",
     "text": [
      "Matrix multilication of x with x: tensor(230)\n"
     ]
    }
   ],
   "source": [
    "# Matrix Multiplication\n",
    "print('Matrix multilication of x with x:',torch.matmul(x,x))"
   ]
  },
  {
   "cell_type": "markdown",
   "id": "911ad73a-4be5-4b88-9852-4f7e135471ea",
   "metadata": {},
   "source": [
    "#### One of the most common error is done when we are working with the shapes of the tensor"
   ]
  },
  {
   "cell_type": "code",
   "execution_count": 41,
   "id": "049fc1fe-739d-46f7-9832-84b5a963c3da",
   "metadata": {},
   "outputs": [
    {
     "data": {
      "text/plain": [
       "torch.Size([2, 3])"
      ]
     },
     "execution_count": 41,
     "metadata": {},
     "output_type": "execute_result"
    }
   ],
   "source": [
    "tensor_A = torch.tensor([[1,2,3]\n",
    "                        ,[2,3,4]])\n",
    "\n",
    "tensor_B = torch.tensor([[1,2,3],\n",
    "                        [4,5,6],\n",
    "                         [3,2,1]])\n",
    "\n",
    "(tensor_A @ tensor_B).shape"
   ]
  },
  {
   "cell_type": "code",
   "execution_count": 42,
   "id": "3ab3bb7f-0ed2-4af4-ba64-034c1dbff089",
   "metadata": {},
   "outputs": [
    {
     "data": {
      "text/plain": [
       "tensor([[1, 2],\n",
       "        [2, 3],\n",
       "        [3, 4]])"
      ]
     },
     "execution_count": 42,
     "metadata": {},
     "output_type": "execute_result"
    }
   ],
   "source": [
    "tensor_A.T"
   ]
  },
  {
   "cell_type": "code",
   "execution_count": 43,
   "id": "30e22665-a7c4-497c-ad1f-99cf735742f7",
   "metadata": {},
   "outputs": [],
   "source": [
    "# torch.mm() is same as of torch.matmul() and this is also same to x @ x"
   ]
  },
  {
   "cell_type": "markdown",
   "id": "8638ac9a-74fc-4590-92e4-5f8534fd9e21",
   "metadata": {},
   "source": [
    "### Finding the min , max , sum , mean etc (tensor aggregates)"
   ]
  },
  {
   "cell_type": "code",
   "execution_count": 45,
   "id": "ef11db4f-efca-4cca-9896-ca192ef43726",
   "metadata": {},
   "outputs": [],
   "source": [
    "x = torch.arange(1,10)"
   ]
  },
  {
   "cell_type": "code",
   "execution_count": 46,
   "id": "3ba07709-5584-481b-ac01-95690d4b552c",
   "metadata": {},
   "outputs": [
    {
     "data": {
      "text/plain": [
       "(tensor(1), tensor(1))"
      ]
     },
     "execution_count": 46,
     "metadata": {},
     "output_type": "execute_result"
    }
   ],
   "source": [
    "torch.min(x) , x.min()"
   ]
  },
  {
   "cell_type": "code",
   "execution_count": 47,
   "id": "8679f595-39de-4dda-97d9-6c1c866430d5",
   "metadata": {},
   "outputs": [
    {
     "data": {
      "text/plain": [
       "(tensor(9), tensor(9))"
      ]
     },
     "execution_count": 47,
     "metadata": {},
     "output_type": "execute_result"
    }
   ],
   "source": [
    "torch.max(x) , x.max()"
   ]
  },
  {
   "cell_type": "code",
   "execution_count": 48,
   "id": "c897a5fe-15ee-4017-ae61-8e7a9f6446d6",
   "metadata": {},
   "outputs": [
    {
     "data": {
      "text/plain": [
       "(tensor(45), tensor(45))"
      ]
     },
     "execution_count": 48,
     "metadata": {},
     "output_type": "execute_result"
    }
   ],
   "source": [
    "torch.sum(x) , x.sum()"
   ]
  },
  {
   "cell_type": "code",
   "execution_count": 49,
   "id": "b744107e-dc76-4dd1-b921-117404e2ed45",
   "metadata": {},
   "outputs": [
    {
     "data": {
      "text/plain": [
       "torch.int64"
      ]
     },
     "execution_count": 49,
     "metadata": {},
     "output_type": "execute_result"
    }
   ],
   "source": [
    "x.dtype"
   ]
  },
  {
   "cell_type": "code",
   "execution_count": 50,
   "id": "3de4fd62-a6fb-4e20-b0e0-968dbc690e26",
   "metadata": {},
   "outputs": [],
   "source": [
    "# torch.mean() -> requires the floating data type and if it is not the same datatype then it will produce error"
   ]
  },
  {
   "cell_type": "code",
   "execution_count": 51,
   "id": "a4b8514c-9def-4e2d-9152-7ba957ac1831",
   "metadata": {},
   "outputs": [
    {
     "data": {
      "text/plain": [
       "(tensor(5.), tensor(5.))"
      ]
     },
     "execution_count": 51,
     "metadata": {},
     "output_type": "execute_result"
    }
   ],
   "source": [
    "torch.mean(x.type(torch.float32)),x.type(torch.float32).mean()"
   ]
  },
  {
   "cell_type": "code",
   "execution_count": 52,
   "id": "84fb1ef4-3420-4547-88fb-0b0070944e80",
   "metadata": {},
   "outputs": [
    {
     "name": "stdout",
     "output_type": "stream",
     "text": [
      "CPU times: user 0 ns, sys: 804 µs, total: 804 µs\n",
      "Wall time: 486 µs\n"
     ]
    },
    {
     "data": {
      "text/plain": [
       "tensor(5.)"
      ]
     },
     "execution_count": 52,
     "metadata": {},
     "output_type": "execute_result"
    }
   ],
   "source": [
    "%%time\n",
    "torch.mean(x.type(torch.float32))"
   ]
  },
  {
   "cell_type": "code",
   "execution_count": 53,
   "id": "2ce2d1e0-9fe1-4b5f-9d5f-962b654f90b9",
   "metadata": {},
   "outputs": [
    {
     "name": "stdout",
     "output_type": "stream",
     "text": [
      "CPU times: user 1.41 ms, sys: 0 ns, total: 1.41 ms\n",
      "Wall time: 869 µs\n"
     ]
    },
    {
     "data": {
      "text/plain": [
       "tensor(5.)"
      ]
     },
     "execution_count": 53,
     "metadata": {},
     "output_type": "execute_result"
    }
   ],
   "source": [
    "%%time\n",
    "x.type(torch.float32).mean()"
   ]
  },
  {
   "cell_type": "markdown",
   "id": "caddcdfb-385e-4064-abe3-2ae80652d367",
   "metadata": {},
   "source": [
    "## Finding position index of min and max element in the tensor"
   ]
  },
  {
   "cell_type": "code",
   "execution_count": 54,
   "id": "2b0c5422-2a5a-4ef3-bbee-ebd4528b9d5e",
   "metadata": {},
   "outputs": [],
   "source": [
    "tensor_a = torch.arange(20,100,2)"
   ]
  },
  {
   "cell_type": "code",
   "execution_count": 55,
   "id": "7752a541-046d-407d-a9e0-a2831df8c9d8",
   "metadata": {},
   "outputs": [
    {
     "data": {
      "text/plain": [
       "tensor(0)"
      ]
     },
     "execution_count": 55,
     "metadata": {},
     "output_type": "execute_result"
    }
   ],
   "source": [
    "tensor_a.argmin() # this is means that the min element ie 20 is at index 0"
   ]
  },
  {
   "cell_type": "code",
   "execution_count": 56,
   "id": "b9d15bd7-dfc7-4513-9bc6-55250bbb44fc",
   "metadata": {},
   "outputs": [
    {
     "data": {
      "text/plain": [
       "tensor(39)"
      ]
     },
     "execution_count": 56,
     "metadata": {},
     "output_type": "execute_result"
    }
   ],
   "source": [
    "tensor_a.argmax() # this is means that the max element ie 100 is at index 39"
   ]
  },
  {
   "cell_type": "markdown",
   "id": "9044d8e8-09e0-4841-9e22-6bb3d125e4e3",
   "metadata": {},
   "source": [
    "## Reshaping , viewing , stacking  , squeezing and unsquesszing Tensor\n",
    "\n",
    "1. Reshaping - reshapes the input tensor\n",
    "2. view - return a view of an input tensor of certain shape but keep the same memory as the original tensor\n",
    "3. stacking - combime multiple tensor on top of each other (vstack) or side by side (hstack)\n",
    "4. squeeze - remove all `1` dimension from a tensor\n",
    "5. unsqueeze - add a `1` dimension to a target tensor\n",
    "6. Permute - return a view of input with dimension swapped in a certain way"
   ]
  },
  {
   "cell_type": "code",
   "execution_count": 57,
   "id": "dcdce427-8ff2-4f8c-92b0-a86b269e9165",
   "metadata": {},
   "outputs": [],
   "source": [
    "x = torch.arange(1,10)"
   ]
  },
  {
   "cell_type": "code",
   "execution_count": 58,
   "id": "37b8ee10-d47b-420f-8c02-4df5f56d96d1",
   "metadata": {},
   "outputs": [
    {
     "data": {
      "text/plain": [
       "(tensor([1, 2, 3, 4, 5, 6, 7, 8, 9]), torch.Size([9]))"
      ]
     },
     "execution_count": 58,
     "metadata": {},
     "output_type": "execute_result"
    }
   ],
   "source": [
    "x , x.shape"
   ]
  },
  {
   "cell_type": "code",
   "execution_count": 59,
   "id": "50b93c76-dd78-43cb-b652-312482cc1870",
   "metadata": {},
   "outputs": [],
   "source": [
    "# Reshaping - extra dimension\n",
    "x_reshaped = x.reshape(3,3)"
   ]
  },
  {
   "cell_type": "code",
   "execution_count": 60,
   "id": "8ec922bb-b922-4040-b129-b0d376d87042",
   "metadata": {},
   "outputs": [
    {
     "data": {
      "text/plain": [
       "tensor([[1, 2, 3],\n",
       "        [4, 5, 6],\n",
       "        [7, 8, 9]])"
      ]
     },
     "execution_count": 60,
     "metadata": {},
     "output_type": "execute_result"
    }
   ],
   "source": [
    "x_reshaped"
   ]
  },
  {
   "cell_type": "code",
   "execution_count": 61,
   "id": "0a807f94-064c-4858-98e9-d71bb92fef23",
   "metadata": {},
   "outputs": [
    {
     "data": {
      "text/plain": [
       "(tensor([1, 2, 3, 4, 5, 6, 7, 8, 9]),\n",
       " tensor([[1, 2, 3],\n",
       "         [4, 5, 6],\n",
       "         [7, 8, 9]]))"
      ]
     },
     "execution_count": 61,
     "metadata": {},
     "output_type": "execute_result"
    }
   ],
   "source": [
    "# Changing the view\n",
    "x_view = x.view(3,3)\n",
    "x , x_view # because view of a tensor shares the same memory -> x_view share the same memory as of x"
   ]
  },
  {
   "cell_type": "code",
   "execution_count": 62,
   "id": "ac07ba70-857f-4021-ab44-cf16e3d9dd45",
   "metadata": {},
   "outputs": [],
   "source": [
    "# change in x_view will reuslt in change in x\n",
    "x_view[:,2] = 100"
   ]
  },
  {
   "cell_type": "code",
   "execution_count": 63,
   "id": "42064386-485d-41de-a144-40f313186f1f",
   "metadata": {},
   "outputs": [
    {
     "data": {
      "text/plain": [
       "(tensor([  1,   2, 100,   4,   5, 100,   7,   8, 100]),\n",
       " tensor([[  1,   2, 100],\n",
       "         [  4,   5, 100],\n",
       "         [  7,   8, 100]]))"
      ]
     },
     "execution_count": 63,
     "metadata": {},
     "output_type": "execute_result"
    }
   ],
   "source": [
    "x , x_view"
   ]
  },
  {
   "cell_type": "code",
   "execution_count": 64,
   "id": "b39f75ed-a858-40a8-86e6-6c900e071461",
   "metadata": {},
   "outputs": [],
   "source": [
    "# Stacking tensor on top of each other\n",
    "x_stack = torch.stack([x_view , x_view])"
   ]
  },
  {
   "cell_type": "code",
   "execution_count": 65,
   "id": "9b7f98a1-3b75-4890-bcff-2b6fd009b9d3",
   "metadata": {},
   "outputs": [
    {
     "data": {
      "text/plain": [
       "tensor([[[  1,   2, 100],\n",
       "         [  4,   5, 100],\n",
       "         [  7,   8, 100]],\n",
       "\n",
       "        [[  1,   2, 100],\n",
       "         [  4,   5, 100],\n",
       "         [  7,   8, 100]]])"
      ]
     },
     "execution_count": 65,
     "metadata": {},
     "output_type": "execute_result"
    }
   ],
   "source": [
    "x_stack"
   ]
  },
  {
   "cell_type": "code",
   "execution_count": 66,
   "id": "bb37f766-9b61-40d5-83c8-69e4c7ba619d",
   "metadata": {},
   "outputs": [
    {
     "data": {
      "text/plain": [
       "(torch.Size([2, 3, 3]), 3)"
      ]
     },
     "execution_count": 66,
     "metadata": {},
     "output_type": "execute_result"
    }
   ],
   "source": [
    "x_stack.shape , x_stack.ndim"
   ]
  },
  {
   "cell_type": "code",
   "execution_count": 67,
   "id": "32ae504b-e0b1-457d-8285-feeaad432c4b",
   "metadata": {},
   "outputs": [],
   "source": [
    "y = torch.tensor([1,2,3,4,5,6])"
   ]
  },
  {
   "cell_type": "code",
   "execution_count": 68,
   "id": "0d2175f3-72df-442c-9bdc-d7f3fab97c3a",
   "metadata": {},
   "outputs": [
    {
     "data": {
      "text/plain": [
       "tensor([[1, 2, 3, 4, 5, 6],\n",
       "        [1, 2, 3, 4, 5, 6],\n",
       "        [1, 2, 3, 4, 5, 6]])"
      ]
     },
     "execution_count": 68,
     "metadata": {},
     "output_type": "execute_result"
    }
   ],
   "source": [
    "torch.stack([y,y,y])"
   ]
  },
  {
   "cell_type": "code",
   "execution_count": 69,
   "id": "fbeb55a0-26c0-4592-afb3-e7e47d8e7498",
   "metadata": {},
   "outputs": [
    {
     "data": {
      "text/plain": [
       "tensor([[1, 1, 1],\n",
       "        [2, 2, 2],\n",
       "        [3, 3, 3],\n",
       "        [4, 4, 4],\n",
       "        [5, 5, 5],\n",
       "        [6, 6, 6]])"
      ]
     },
     "execution_count": 69,
     "metadata": {},
     "output_type": "execute_result"
    }
   ],
   "source": [
    "torch.stack([y,y,y],dim = 1)"
   ]
  },
  {
   "cell_type": "code",
   "execution_count": 70,
   "id": "5c15afb6-7575-4bde-adc3-5a19a72178ec",
   "metadata": {},
   "outputs": [],
   "source": [
    "# torch.squeeze() -> remove all the single dimension from target tensor"
   ]
  },
  {
   "cell_type": "code",
   "execution_count": 71,
   "id": "7ad1d9fd-aacb-4c4c-93ce-c102b1c1be58",
   "metadata": {},
   "outputs": [],
   "source": [
    "y = torch.tensor([[1,2,3,4]])"
   ]
  },
  {
   "cell_type": "code",
   "execution_count": 72,
   "id": "52b5c876-ce53-45b6-bc1a-8bafac2404d6",
   "metadata": {},
   "outputs": [
    {
     "data": {
      "text/plain": [
       "(torch.Size([1, 4]), 2)"
      ]
     },
     "execution_count": 72,
     "metadata": {},
     "output_type": "execute_result"
    }
   ],
   "source": [
    "y.shape , y.ndim"
   ]
  },
  {
   "cell_type": "code",
   "execution_count": 73,
   "id": "9b3fa0f5-d850-4c8e-9a5c-995a8291470e",
   "metadata": {},
   "outputs": [],
   "source": [
    "y_squeezed = torch.squeeze(y)"
   ]
  },
  {
   "cell_type": "code",
   "execution_count": 74,
   "id": "eefe6321-67c6-4acf-9b41-973593c8758f",
   "metadata": {},
   "outputs": [
    {
     "data": {
      "text/plain": [
       "(torch.Size([4]), 1)"
      ]
     },
     "execution_count": 74,
     "metadata": {},
     "output_type": "execute_result"
    }
   ],
   "source": [
    "y_squeezed.shape , y_squeezed.ndim"
   ]
  },
  {
   "cell_type": "code",
   "execution_count": 75,
   "id": "1f857782-cd79-4e3e-a28d-b74e8bfe3405",
   "metadata": {},
   "outputs": [],
   "source": [
    "# torch.unsqueeze() -> add  a single dimension to a target tensor at the specific dim"
   ]
  },
  {
   "cell_type": "code",
   "execution_count": 76,
   "id": "860939b0-be91-425d-85a6-ce48c875dc58",
   "metadata": {},
   "outputs": [
    {
     "data": {
      "text/plain": [
       "(tensor([1, 2, 3, 4]), torch.Size([4]), 1)"
      ]
     },
     "execution_count": 76,
     "metadata": {},
     "output_type": "execute_result"
    }
   ],
   "source": [
    "y_squeezed , y_squeezed.shape, y_squeezed.ndim"
   ]
  },
  {
   "cell_type": "code",
   "execution_count": 77,
   "id": "3b300295-6dcd-4e5e-a6e9-1ecb05f90048",
   "metadata": {},
   "outputs": [],
   "source": [
    "y_unsqueezed = y_squeezed.unsqueeze(dim = 0)"
   ]
  },
  {
   "cell_type": "code",
   "execution_count": 78,
   "id": "61ca7e14-ae7f-4282-80c4-c564c979633f",
   "metadata": {},
   "outputs": [
    {
     "data": {
      "text/plain": [
       "(tensor([[1, 2, 3, 4]]), torch.Size([1, 4]), 2)"
      ]
     },
     "execution_count": 78,
     "metadata": {},
     "output_type": "execute_result"
    }
   ],
   "source": [
    "y_unsqueezed, y_unsqueezed.shape , y_unsqueezed.ndim"
   ]
  },
  {
   "cell_type": "code",
   "execution_count": 79,
   "id": "d4372c13-dccd-433d-b82b-d87d3dbd71b6",
   "metadata": {},
   "outputs": [],
   "source": [
    "# torch.permutate - rearrange the dimension of target tensor in a specific order\n",
    "\n",
    "x_tensor = torch.rand((2,3),dtype = torch.half)"
   ]
  },
  {
   "cell_type": "code",
   "execution_count": 80,
   "id": "7d9dfb01-2c30-4c12-8436-69d0b61c9e1a",
   "metadata": {},
   "outputs": [
    {
     "data": {
      "text/plain": [
       "torch.Size([2, 3])"
      ]
     },
     "execution_count": 80,
     "metadata": {},
     "output_type": "execute_result"
    }
   ],
   "source": [
    "x_tensor.shape"
   ]
  },
  {
   "cell_type": "code",
   "execution_count": 81,
   "id": "d76fc80b-e927-4c05-ace7-db2a8547e931",
   "metadata": {},
   "outputs": [],
   "source": [
    "x_permutate = x_tensor.permute(1,0) # 1->0 and 0->1"
   ]
  },
  {
   "cell_type": "code",
   "execution_count": 82,
   "id": "3a0980a1-16b9-4775-b3da-cfd35fc2a955",
   "metadata": {},
   "outputs": [
    {
     "data": {
      "text/plain": [
       "(tensor([[0.8647, 0.1528],\n",
       "         [0.3320, 0.1533],\n",
       "         [0.4053, 0.3413]], dtype=torch.float16),\n",
       " tensor([[0.8647, 0.3320, 0.4053],\n",
       "         [0.1528, 0.1533, 0.3413]], dtype=torch.float16))"
      ]
     },
     "execution_count": 82,
     "metadata": {},
     "output_type": "execute_result"
    }
   ],
   "source": [
    "x_permutate , x_tensor"
   ]
  },
  {
   "cell_type": "markdown",
   "id": "cf25dfa8-72a0-4922-a210-78065df64459",
   "metadata": {},
   "source": [
    "### Selecting data from tensor (Indexing)\n",
    "Indexing in pytorch is similar to numpy indexing"
   ]
  },
  {
   "cell_type": "code",
   "execution_count": 84,
   "id": "6a70d028-a5c0-45d3-adc8-02993594bc0e",
   "metadata": {},
   "outputs": [],
   "source": [
    "x = torch.rand((1,2,3),dtype = torch.float32)"
   ]
  },
  {
   "cell_type": "code",
   "execution_count": 85,
   "id": "b7676c7f-1e49-4043-87cc-a1cd3ce07f3c",
   "metadata": {},
   "outputs": [
    {
     "data": {
      "text/plain": [
       "torch.Size([1, 2, 3])"
      ]
     },
     "execution_count": 85,
     "metadata": {},
     "output_type": "execute_result"
    }
   ],
   "source": [
    "x.shape"
   ]
  },
  {
   "cell_type": "code",
   "execution_count": 86,
   "id": "b9fd6d7d-9904-463f-8381-d9f828e83dec",
   "metadata": {},
   "outputs": [
    {
     "data": {
      "text/plain": [
       "tensor([[0.2874, 0.6292, 0.3600],\n",
       "        [0.3795, 0.8271, 0.7286]])"
      ]
     },
     "execution_count": 86,
     "metadata": {},
     "output_type": "execute_result"
    }
   ],
   "source": [
    "x[0] # -> this is the first row of dim 1"
   ]
  },
  {
   "cell_type": "code",
   "execution_count": 87,
   "id": "ec1ddbec-8ffe-47a1-a70e-e660246f6a88",
   "metadata": {},
   "outputs": [
    {
     "data": {
      "text/plain": [
       "tensor([0.2874, 0.6292, 0.3600])"
      ]
     },
     "execution_count": 87,
     "metadata": {},
     "output_type": "execute_result"
    }
   ],
   "source": [
    "x[0,0] # -> this is the inner dimension of the first row"
   ]
  },
  {
   "cell_type": "code",
   "execution_count": 88,
   "id": "76297d2a-6dc5-4872-8235-3ac02f679d48",
   "metadata": {},
   "outputs": [
    {
     "data": {
      "text/plain": [
       "tensor(0.2874)"
      ]
     },
     "execution_count": 88,
     "metadata": {},
     "output_type": "execute_result"
    }
   ],
   "source": [
    "x[0,0,0] # -> most inner bracket"
   ]
  },
  {
   "cell_type": "code",
   "execution_count": 89,
   "id": "07812819-0b57-4111-be33-cc6bdd91cc9a",
   "metadata": {},
   "outputs": [
    {
     "data": {
      "text/plain": [
       "tensor(0.8271)"
      ]
     },
     "execution_count": 89,
     "metadata": {},
     "output_type": "execute_result"
    }
   ],
   "source": [
    "x[0,1,1] # x[1,1,1] -> this will produce error because we have [1,2,3] as a dimension of x and we can't go beyond that"
   ]
  },
  {
   "cell_type": "code",
   "execution_count": 90,
   "id": "715bb5c0-a492-4090-885d-4b6aa1c41f31",
   "metadata": {},
   "outputs": [
    {
     "data": {
      "text/plain": [
       "tensor([[0.6292, 0.8271]])"
      ]
     },
     "execution_count": 90,
     "metadata": {},
     "output_type": "execute_result"
    }
   ],
   "source": [
    "x[:,:,1]"
   ]
  },
  {
   "cell_type": "markdown",
   "id": "8a382e2a-a61a-4767-ae0f-0b278bc286f2",
   "metadata": {},
   "source": [
    "## Pytorch and Numpy\n",
    "\n",
    "Numpy is the scientific lib that has the capabalities of appling some changes to array like structure and pytorch has the functionalities to intract with numpy.\n",
    "\n",
    "* using `torch.from_numpy(ndarray)` -> convert numpy ndarray to tensor\n",
    "* using `torch.tensor.numpy()` -> convert tensor to numpy"
   ]
  },
  {
   "cell_type": "code",
   "execution_count": 91,
   "id": "cc4307db-2498-4176-8dc7-e0335c501add",
   "metadata": {},
   "outputs": [],
   "source": [
    "import numpy as np\n",
    "import torch"
   ]
  },
  {
   "cell_type": "code",
   "execution_count": 92,
   "id": "985ece78-6b6c-4cc9-aa4b-557c1425349b",
   "metadata": {},
   "outputs": [
    {
     "data": {
      "text/plain": [
       "tensor([1., 2., 3., 4., 5., 6., 7., 8., 9.], dtype=torch.float64)"
      ]
     },
     "execution_count": 92,
     "metadata": {},
     "output_type": "execute_result"
    }
   ],
   "source": [
    "array = np.arange(1.0,10.0)\n",
    "tensor = torch.from_numpy(array)\n",
    "tensor"
   ]
  },
  {
   "cell_type": "code",
   "execution_count": 93,
   "id": "6543f660-2b3b-45f8-bb1f-fb840494bb29",
   "metadata": {},
   "outputs": [],
   "source": [
    "array = array + 1"
   ]
  },
  {
   "cell_type": "code",
   "execution_count": 94,
   "id": "0e24da8a-6bf7-45db-a7c4-f30cf64d0d25",
   "metadata": {},
   "outputs": [
    {
     "data": {
      "text/plain": [
       "(array([ 2.,  3.,  4.,  5.,  6.,  7.,  8.,  9., 10.]),\n",
       " tensor([1., 2., 3., 4., 5., 6., 7., 8., 9.], dtype=torch.float64))"
      ]
     },
     "execution_count": 94,
     "metadata": {},
     "output_type": "execute_result"
    }
   ],
   "source": [
    "array , tensor"
   ]
  },
  {
   "cell_type": "code",
   "execution_count": 95,
   "id": "5e610ac9-aef4-4bc2-b4b6-a69c1430bf5e",
   "metadata": {},
   "outputs": [],
   "source": [
    "t = torch.ones((2,4))"
   ]
  },
  {
   "cell_type": "code",
   "execution_count": 96,
   "id": "75ffd216-69bb-473c-96ac-57a58e7a1990",
   "metadata": {},
   "outputs": [
    {
     "data": {
      "text/plain": [
       "tensor([[1., 1., 1., 1.],\n",
       "        [1., 1., 1., 1.]])"
      ]
     },
     "execution_count": 96,
     "metadata": {},
     "output_type": "execute_result"
    }
   ],
   "source": [
    "t"
   ]
  },
  {
   "cell_type": "code",
   "execution_count": 97,
   "id": "b600331f-ef65-4ce2-93c5-1b9e22ee511f",
   "metadata": {},
   "outputs": [],
   "source": [
    "array_1 = torch.Tensor.numpy(t)"
   ]
  },
  {
   "cell_type": "code",
   "execution_count": 98,
   "id": "1c2d5e5b-23ec-498a-b15b-a36839b73c03",
   "metadata": {},
   "outputs": [
    {
     "data": {
      "text/plain": [
       "array([[1., 1., 1., 1.],\n",
       "       [1., 1., 1., 1.]], dtype=float32)"
      ]
     },
     "execution_count": 98,
     "metadata": {},
     "output_type": "execute_result"
    }
   ],
   "source": [
    "array_1"
   ]
  },
  {
   "cell_type": "markdown",
   "id": "6c4e9f17-ae5e-4c6a-a7cf-93fb7927b4d2",
   "metadata": {},
   "source": [
    "### Changing the `tensor` what happen to `numpy` array\n",
    "\n",
    "* Nothing happen because tensor and numpy array shares the different memory"
   ]
  },
  {
   "cell_type": "code",
   "execution_count": 99,
   "id": "403cb622-f0d3-4943-99d7-a281916e59b5",
   "metadata": {},
   "outputs": [
    {
     "data": {
      "text/plain": [
       "(tensor([[2., 2., 2., 2.],\n",
       "         [2., 2., 2., 2.]]),\n",
       " array([[1., 1., 1., 1.],\n",
       "        [1., 1., 1., 1.]], dtype=float32))"
      ]
     },
     "execution_count": 99,
     "metadata": {},
     "output_type": "execute_result"
    }
   ],
   "source": [
    "t = t + 1\n",
    "t,array_1"
   ]
  },
  {
   "cell_type": "markdown",
   "id": "caba2fb9-beb6-4ee8-8db6-8bddd9f3c280",
   "metadata": {},
   "source": [
    "### `Topic of reproducibility` \n",
    "\n",
    "* Trying to make of random out of random\n",
    "* In short how a neural network learns:\n",
    "* `start with random numbers -> tensor operation -> update random numbers to try and make them better representation of that data -> again and again this steps are followed for predefined epochs`\n",
    "* To reduce the randomness in neural network and pytorch comes with the concept of a **random seeds**\n",
    "* **random seeds** -> flavours the randomness\n",
    "* https://en.wikipedia.org/wiki/Random_seed"
   ]
  },
  {
   "cell_type": "code",
   "execution_count": 100,
   "id": "308a5a19-b0c7-4f30-b703-800a97d114fb",
   "metadata": {},
   "outputs": [
    {
     "name": "stdout",
     "output_type": "stream",
     "text": [
      "tensor([[False, False, False, False],\n",
      "        [False, False, False, False],\n",
      "        [False, False, False, False]])\n",
      "tensor([[0.7147, 0.7850, 0.2895, 0.0686],\n",
      "        [0.1085, 0.5367, 0.9154, 0.5952],\n",
      "        [0.2828, 0.6679, 0.5441, 0.9473]])\n",
      "tensor([[0.7298, 0.8096, 0.2397, 0.7879],\n",
      "        [0.1759, 0.0718, 0.2450, 0.7626],\n",
      "        [0.9490, 0.5251, 0.1430, 0.1707]])\n"
     ]
    }
   ],
   "source": [
    "import torch\n",
    "\n",
    "# Creating two random no\n",
    "tensor_A = torch.rand(3,4)\n",
    "tensor_B = torch.rand(3,4)\n",
    "\n",
    "print(tensor_A == tensor_B)\n",
    "print(tensor_A)\n",
    "print(tensor_B)"
   ]
  },
  {
   "cell_type": "code",
   "execution_count": 101,
   "id": "96ecbfcc-e02e-4d07-bd0d-8a93e50980db",
   "metadata": {},
   "outputs": [
    {
     "name": "stdout",
     "output_type": "stream",
     "text": [
      "tensor([[False, False, False],\n",
      "        [False, False, False],\n",
      "        [False, False, False]])\n",
      "tensor([[0.8823, 0.9150, 0.3829],\n",
      "        [0.9593, 0.3904, 0.6009],\n",
      "        [0.2566, 0.7936, 0.9408]])\n",
      "tensor([[0.1332, 0.9346, 0.5936],\n",
      "        [0.8694, 0.5677, 0.7411],\n",
      "        [0.4294, 0.8854, 0.5739]])\n"
     ]
    }
   ],
   "source": [
    "# Let's make some random but reproducible tensor\n",
    "import torch\n",
    "\n",
    "RANDOM_SEED = 42\n",
    "torch.manual_seed(RANDOM_SEED)\n",
    "tensor_A = torch.rand(3,3)\n",
    "#torch.manual_seed(RANDOM_SEED) # -> make sure that every time you have to use torch.manual_seed() for each block of below code \n",
    "tensor_B = torch.rand(3,3)\n",
    "\n",
    "print(tensor_A == tensor_B)\n",
    "print(tensor_A)\n",
    "print(tensor_B)"
   ]
  },
  {
   "cell_type": "markdown",
   "id": "ae1a54f4-e44d-4dbc-9451-8a2022e0b989",
   "metadata": {},
   "source": [
    "### Running tensor and pytorch object on GPU (and making accelerated computing using cuda + nvidia Harware)\n",
    "### Getting the GPU\n",
    "\n",
    "1. Easiest way is to use Google colab\n",
    "2. Use your own GPU\n",
    "3. Use cloud Computing Azure , Aws etc "
   ]
  },
  {
   "cell_type": "markdown",
   "id": "719f8824-ee4e-4bce-9984-5e7c7e19f8f3",
   "metadata": {},
   "source": [
    "### Check whether GPU is available or not\n",
    "\n",
    "* If the device is capable of using GPU using cuda then it is important to set up agnostic device setup"
   ]
  },
  {
   "cell_type": "code",
   "execution_count": 104,
   "id": "af3ba0d7-77b9-4bbc-873f-4d4a664386aa",
   "metadata": {},
   "outputs": [
    {
     "data": {
      "text/plain": [
       "True"
      ]
     },
     "execution_count": 104,
     "metadata": {},
     "output_type": "execute_result"
    }
   ],
   "source": [
    "import torch\n",
    "torch.cuda.is_available()"
   ]
  },
  {
   "cell_type": "code",
   "execution_count": 105,
   "id": "b93c98e1-8327-486a-bb56-c9e6d946b474",
   "metadata": {},
   "outputs": [
    {
     "data": {
      "text/plain": [
       "'cuda'"
      ]
     },
     "execution_count": 105,
     "metadata": {},
     "output_type": "execute_result"
    }
   ],
   "source": [
    "# Setup device agnostic code\n",
    "device = 'cuda' if torch.cuda.is_available() else 'cpu'\n",
    "device"
   ]
  },
  {
   "cell_type": "code",
   "execution_count": 106,
   "id": "0fa8c2a2-c978-4e93-88f4-16878dfa0258",
   "metadata": {},
   "outputs": [
    {
     "data": {
      "text/plain": [
       "1"
      ]
     },
     "execution_count": 106,
     "metadata": {},
     "output_type": "execute_result"
    }
   ],
   "source": [
    "# Count the deivce\n",
    "torch.cuda.device_count()"
   ]
  },
  {
   "cell_type": "markdown",
   "id": "8d777d1f-ec87-4d87-a8ca-ed1a152273ff",
   "metadata": {},
   "source": [
    "### Putting tensor and model on GPU if available \n",
    "\n",
    "* This will lead to a faster computations"
   ]
  },
  {
   "cell_type": "code",
   "execution_count": 107,
   "id": "db97dc67-cf69-4f99-8b0b-878ff3bd6f27",
   "metadata": {},
   "outputs": [
    {
     "data": {
      "text/plain": [
       "(tensor([1, 2, 3]), device(type='cpu'))"
      ]
     },
     "execution_count": 107,
     "metadata": {},
     "output_type": "execute_result"
    }
   ],
   "source": [
    "tensor = torch.tensor([1,2,3])\n",
    "tensor , tensor.device"
   ]
  },
  {
   "cell_type": "code",
   "execution_count": 108,
   "id": "91c8f089-7ef9-4c80-8e3f-76f42171ede4",
   "metadata": {},
   "outputs": [
    {
     "data": {
      "text/plain": [
       "(tensor([1, 2, 3], device='cuda:0'), device(type='cuda', index=0))"
      ]
     },
     "execution_count": 108,
     "metadata": {},
     "output_type": "execute_result"
    }
   ],
   "source": [
    "# Moving tensor on GPU if available\n",
    "tensor_on_gpu = tensor.to(device)\n",
    "tensor_on_gpu , tensor_on_gpu.device"
   ]
  },
  {
   "cell_type": "code",
   "execution_count": 109,
   "id": "b693cb97-83db-4475-bd80-a61ea0bf464f",
   "metadata": {},
   "outputs": [
    {
     "data": {
      "text/plain": [
       "array([1, 2, 3])"
      ]
     },
     "execution_count": 109,
     "metadata": {},
     "output_type": "execute_result"
    }
   ],
   "source": [
    "# Moving tensor back to cpu\n",
    "tensor_on_cpu = tensor_on_gpu.cpu().numpy()\n",
    "tensor_on_cpu"
   ]
  },
  {
   "cell_type": "code",
   "execution_count": null,
   "id": "da9fa542-f4a3-4bf0-9356-bacc75e765a8",
   "metadata": {},
   "outputs": [],
   "source": []
  }
 ],
 "metadata": {
  "kernelspec": {
   "display_name": "Python 3 (ipykernel)",
   "language": "python",
   "name": "python3"
  },
  "language_info": {
   "codemirror_mode": {
    "name": "ipython",
    "version": 3
   },
   "file_extension": ".py",
   "mimetype": "text/x-python",
   "name": "python",
   "nbconvert_exporter": "python",
   "pygments_lexer": "ipython3",
   "version": "3.10.12"
  }
 },
 "nbformat": 4,
 "nbformat_minor": 5
}
